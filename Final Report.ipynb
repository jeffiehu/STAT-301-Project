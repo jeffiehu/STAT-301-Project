{
 "cells": [
  {
   "cell_type": "markdown",
   "id": "7740db6b-c00d-49e5-8460-fa1a8a52337c",
   "metadata": {},
   "source": [
    "# Group 31: Placement Prediction\n",
    "\n",
    "**Group members:** Jeff Hu, Daniel Truong, Longyi Yuan, Mohith Baskaran\n",
    "\n",
    "**Course:** STAT 301\n",
    "\n",
    "**Date:** April 7th"
   ]
  },
  {
   "cell_type": "code",
   "execution_count": 3,
   "id": "3c8e7cc0-4b12-435a-affd-de0a1cfe73b0",
   "metadata": {},
   "outputs": [
    {
     "ename": "NameError",
     "evalue": "name 'library' is not defined",
     "output_type": "error",
     "traceback": [
      "\u001b[31m---------------------------------------------------------------------------\u001b[39m",
      "\u001b[31mNameError\u001b[39m                                 Traceback (most recent call last)",
      "\u001b[36mCell\u001b[39m\u001b[36m \u001b[39m\u001b[32mIn[3]\u001b[39m\u001b[32m, line 4\u001b[39m\n\u001b[32m      1\u001b[39m \u001b[38;5;66;03m# Main developer: Longyi\u001b[39;00m\n\u001b[32m      2\u001b[39m \u001b[38;5;66;03m# Contributors: Jeff, Daniel, Mohith\u001b[39;00m\n\u001b[32m----> \u001b[39m\u001b[32m4\u001b[39m \u001b[43mlibrary\u001b[49m(tidyverse)\n\u001b[32m      5\u001b[39m library(\u001b[38;5;28mrepr\u001b[39m)\n\u001b[32m      6\u001b[39m library(infer)\n",
      "\u001b[31mNameError\u001b[39m: name 'library' is not defined"
     ]
    }
   ],
   "source": [
    "# Main developer: Longyi\n",
    "# Contributors: Jeff, Daniel, Mohith\n",
    "\n",
    "library(tidyverse)\n",
    "library(repr)\n",
    "library(infer)\n",
    "library(dplyr)\n",
    "library(cowplot)\n",
    "library(broom)\n",
    "library(rsample)\n",
    "library(MASS)      \n",
    "library(caret)\n",
    "library(car)"
   ]
  },
  {
   "cell_type": "markdown",
   "id": "8501ab17-bca3-4ab3-8a5b-23070c681852",
   "metadata": {},
   "source": [
    "# I. Introduction:"
   ]
  },
  {
   "cell_type": "markdown",
   "id": "6643e8a5-fc36-44da-b847-f5426e18fc1d",
   "metadata": {},
   "source": [
    "Let’s set the scene: securing a job placement has always been a big concern for many students, especially in a climate where everyone’s hustling hard. Colleges encourage skill-building activities (like internships, projects, and workshops), emphasizing both hard skills and soft skills, hoping these experiences increase the odds of landing a job. Naturally, we can’t overlook traditional academic performance measures such as CGPA, SSC, and HSC marks. And that’s where our dataset steps in, providing detailed info on academic achievements, skill-enhancement activities, personal attributes (like AptitudeTestScore and SoftSkillRating), and whether or not a student got placed.\n",
    "\n",
    "With so many facets playing into job outcomes, we want to explore whether a particular factor, like CGPA, internship count, or extracurricular involvement is actually associated with better placement prospects. This question is important not just for students to plan their college activities, but also for educational institutions looking to refine their training programs.\n",
    "\n",
    "**Research Question**\n",
    "\n",
    "**Can academic achievements, skill-enhancement activities, and personal attributes predict a student’s job placement success?**\n",
    "\n",
    "**Goal:**\n",
    "\n",
    "- Identify statistically significant predictors of job placement using logistic regression.\n",
    "  \n",
    "- Assess the predictive accuracy of the model for supplementary insights.\n",
    "\n",
    "**Response Variable:** PlacementStatus (binary: Placed or Not Placed).\n",
    "\n",
    "**Predictor Variables of Interest:**\n",
    "\n",
    "- **Academic Achievements:**\n",
    "\n",
    "    - CGPA (cumulative GPA)\n",
    "      \n",
    "    - SSC_Marks (senior secondary marks)\n",
    " \n",
    "      \n",
    "    - HSC_Marks (higher secondary marks)\n",
    "\n",
    "- **Skill-Enhancement Activities:**\n",
    "\n",
    "    - Internships (number completed)\n",
    "    \n",
    "    - Projects (number completed)\n",
    "\n",
    "    - Workshops/Certifications (number attended)\n",
    "\n",
    "- **Personal Attributes:**\n",
    "\n",
    "    - AptitudeTestScore (quantitative/logic score)\n",
    "      \n",
    "    - SoftSkillRating (communication skills rating)\n",
    "\n",
    "    - ExtracurricularActivities (participation: Yes/No)\n",
    "Primary Focus: Inference\n",
    "The main objective is to understand and interpret the associations between predictors and placement outcomes. While predictive performance (e.g., accuracy, AUC-ROC) is explored, the emphasis remains on identifying which factors most strongly influence placement likelihood. This prioritizes actionable insights for students and educators over pure predictive power."
   ]
  },
  {
   "cell_type": "markdown",
   "id": "b208ad9a-fb34-4566-afc6-889e757b5cca",
   "metadata": {},
   "source": [
    "# II. Methods and results:"
   ]
  },
  {
   "cell_type": "markdown",
   "id": "72efc56a-c222-4124-b18d-6eda6bd6cbec",
   "metadata": {},
   "source": [
    "## a) Data\n",
    "\n",
    "### Data description\n",
    "\n",
    "Below is a summary table of the dataset variables: The dataset contains 10000 observations and 11 variables, each representing an individual student. The variables capture a range of academic, personal, and training-related characteristics that may influence whether a student is placed or not. The table below describes all the varlables in the dataset."
   ]
  },
  {
   "cell_type": "code",
   "execution_count": 4,
   "id": "6b3e3adf-f466-4bf4-829f-97641b0a2f7a",
   "metadata": {},
   "outputs": [
    {
     "ename": "NameError",
     "evalue": "name 'summary_table' is not defined",
     "output_type": "error",
     "traceback": [
      "\u001b[31m---------------------------------------------------------------------------\u001b[39m",
      "\u001b[31mNameError\u001b[39m                                 Traceback (most recent call last)",
      "\u001b[36mCell\u001b[39m\u001b[36m \u001b[39m\u001b[32mIn[4]\u001b[39m\u001b[32m, line 4\u001b[39m\n\u001b[32m      1\u001b[39m \u001b[38;5;66;03m# Main developer: ?\u001b[39;00m\n\u001b[32m      2\u001b[39m \u001b[38;5;66;03m# Contributors: ?\u001b[39;00m\n\u001b[32m----> \u001b[39m\u001b[32m4\u001b[39m \u001b[43msummary_table\u001b[49m <- data.frame(\n\u001b[32m      5\u001b[39m   Variable = c(\n\u001b[32m      6\u001b[39m     \u001b[33m\"\u001b[39m\u001b[33mCGPA\u001b[39m\u001b[33m\"\u001b[39m, \u001b[33m\"\u001b[39m\u001b[33mInternships\u001b[39m\u001b[33m\"\u001b[39m, \u001b[33m\"\u001b[39m\u001b[33mProjects\u001b[39m\u001b[33m\"\u001b[39m, \u001b[33m\"\u001b[39m\u001b[33mWorkshops/Certifications\u001b[39m\u001b[33m\"\u001b[39m,\n\u001b[32m      7\u001b[39m     \u001b[33m\"\u001b[39m\u001b[33mApptitudeTestScore\u001b[39m\u001b[33m\"\u001b[39m, \u001b[33m\"\u001b[39m\u001b[33mSoftSkillrating\u001b[39m\u001b[33m\"\u001b[39m, \u001b[33m\"\u001b[39m\u001b[33mExtraCurricularActivities\u001b[39m\u001b[33m\"\u001b[39m,\n\u001b[32m      8\u001b[39m     \u001b[33m\"\u001b[39m\u001b[33mPlacementTraining\u001b[39m\u001b[33m\"\u001b[39m, \u001b[33m\"\u001b[39m\u001b[33mSSC\u001b[39m\u001b[33m\"\u001b[39m, \u001b[33m\"\u001b[39m\u001b[33mHSC\u001b[39m\u001b[33m\"\u001b[39m, \u001b[33m\"\u001b[39m\u001b[33mPlacementStatus\u001b[39m\u001b[33m\"\u001b[39m\n\u001b[32m      9\u001b[39m   ),\n\u001b[32m     10\u001b[39m   Type = c(\n\u001b[32m     11\u001b[39m     \u001b[33m\"\u001b[39m\u001b[33mNumeric\u001b[39m\u001b[33m\"\u001b[39m, \u001b[33m\"\u001b[39m\u001b[33mInteger\u001b[39m\u001b[33m\"\u001b[39m, \u001b[33m\"\u001b[39m\u001b[33mInteger\u001b[39m\u001b[33m\"\u001b[39m, \u001b[33m\"\u001b[39m\u001b[33mInteger\u001b[39m\u001b[33m\"\u001b[39m,\n\u001b[32m     12\u001b[39m     \u001b[33m\"\u001b[39m\u001b[33mNumeric\u001b[39m\u001b[33m\"\u001b[39m, \u001b[33m\"\u001b[39m\u001b[33mNumeric\u001b[39m\u001b[33m\"\u001b[39m, \u001b[33m\"\u001b[39m\u001b[33mInteger\u001b[39m\u001b[33m\"\u001b[39m,\n\u001b[32m     13\u001b[39m     \u001b[33m\"\u001b[39m\u001b[33mBinary (0 = No, 1 = Yes)\u001b[39m\u001b[33m\"\u001b[39m, \u001b[33m\"\u001b[39m\u001b[33mNumeric\u001b[39m\u001b[33m\"\u001b[39m, \u001b[33m\"\u001b[39m\u001b[33mNumeric\u001b[39m\u001b[33m\"\u001b[39m, \u001b[33m\"\u001b[39m\u001b[33mCategorical\u001b[39m\u001b[33m\"\u001b[39m\n\u001b[32m     14\u001b[39m   ),\n\u001b[32m     15\u001b[39m   Description = c(\n\u001b[32m     16\u001b[39m     \u001b[33m\"\u001b[39m\u001b[33mOverall grades achieved by the student\u001b[39m\u001b[33m\"\u001b[39m,\n\u001b[32m     17\u001b[39m     \u001b[33m\"\u001b[39m\u001b[33mNumber of internships a student has done\u001b[39m\u001b[33m\"\u001b[39m,\n\u001b[32m     18\u001b[39m     \u001b[33m\"\u001b[39m\u001b[33mNumber of projects a student has completed\u001b[39m\u001b[33m\"\u001b[39m,\n\u001b[32m     19\u001b[39m     \u001b[33m\"\u001b[39m\u001b[33mOnline courses taken to upskill themselves\u001b[39m\u001b[33m\"\u001b[39m,\n\u001b[32m     20\u001b[39m     \u001b[33m\"\u001b[39m\u001b[33mScore from aptitude tests (Quant & logic)\u001b[39m\u001b[33m\"\u001b[39m,\n\u001b[32m     21\u001b[39m     \u001b[33m\"\u001b[39m\u001b[33mSoft skill (e.g., communication) rating\u001b[39m\u001b[33m\"\u001b[39m,\n\u001b[32m     22\u001b[39m     \u001b[33m\"\u001b[39m\u001b[33mInvolvement in non-academic activities\u001b[39m\u001b[33m\"\u001b[39m,\n\u001b[32m     23\u001b[39m     \u001b[33m\"\u001b[39m\u001b[33mWhether placement training was taken\u001b[39m\u001b[33m\"\u001b[39m,\n\u001b[32m     24\u001b[39m     \u001b[33m\"\u001b[39m\u001b[33mSenior Secondary marks\u001b[39m\u001b[33m\"\u001b[39m,\n\u001b[32m     25\u001b[39m     \u001b[33m\"\u001b[39m\u001b[33mHigher Secondary marks\u001b[39m\u001b[33m\"\u001b[39m,\n\u001b[32m     26\u001b[39m     \u001b[33m\"\u001b[39m\u001b[33mTarget variable: Placed or Not Placed\u001b[39m\u001b[33m\"\u001b[39m\n\u001b[32m     27\u001b[39m   )\n\u001b[32m     28\u001b[39m )\n\u001b[32m     29\u001b[39m summary_table\n",
      "\u001b[31mNameError\u001b[39m: name 'summary_table' is not defined"
     ]
    }
   ],
   "source": [
    "# Main developer: ?\n",
    "# Contributors: ?\n",
    "\n",
    "summary_table <- data.frame(\n",
    "  Variable = c(\n",
    "    \"CGPA\", \"Internships\", \"Projects\", \"Workshops/Certifications\",\n",
    "    \"ApptitudeTestScore\", \"SoftSkillrating\", \"ExtraCurricularActivities\",\n",
    "    \"PlacementTraining\", \"SSC\", \"HSC\", \"PlacementStatus\"\n",
    "  ),\n",
    "  Type = c(\n",
    "    \"Numeric\", \"Integer\", \"Integer\", \"Integer\",\n",
    "    \"Numeric\", \"Numeric\", \"Integer\",\n",
    "    \"Binary (0 = No, 1 = Yes)\", \"Numeric\", \"Numeric\", \"Categorical\"\n",
    "  ),\n",
    "  Description = c(\n",
    "    \"Overall grades achieved by the student\",\n",
    "    \"Number of internships a student has done\",\n",
    "    \"Number of projects a student has completed\",\n",
    "    \"Online courses taken to upskill themselves\",\n",
    "    \"Score from aptitude tests (Quant & logic)\",\n",
    "    \"Soft skill (e.g., communication) rating\",\n",
    "    \"Involvement in non-academic activities\",\n",
    "    \"Whether placement training was taken\",\n",
    "    \"Senior Secondary marks\",\n",
    "    \"Higher Secondary marks\",\n",
    "    \"Target variable: Placed or Not Placed\"\n",
    "  )\n",
    ")\n",
    "summary_table"
   ]
  },
  {
   "cell_type": "code",
   "execution_count": 5,
   "id": "560b5fa1-1119-4408-8ca2-5448b27c62b6",
   "metadata": {},
   "outputs": [
    {
     "ename": "NameError",
     "evalue": "name 'url' is not defined",
     "output_type": "error",
     "traceback": [
      "\u001b[31m---------------------------------------------------------------------------\u001b[39m",
      "\u001b[31mNameError\u001b[39m                                 Traceback (most recent call last)",
      "\u001b[36mCell\u001b[39m\u001b[36m \u001b[39m\u001b[32mIn[5]\u001b[39m\u001b[32m, line 3\u001b[39m\n\u001b[32m      1\u001b[39m \u001b[38;5;66;03m# Main developer: Longyi\u001b[39;00m\n\u001b[32m----> \u001b[39m\u001b[32m3\u001b[39m \u001b[43murl\u001b[49m <- \u001b[33m\"\u001b[39m\u001b[33mhttps://raw.githubusercontent.com/Arcyill/STAT-301-Project/refs/heads/main/placementdata.csv\u001b[39m\u001b[33m\"\u001b[39m\n\u001b[32m      5\u001b[39m placementData <- read.csv(url)\n",
      "\u001b[31mNameError\u001b[39m: name 'url' is not defined"
     ]
    }
   ],
   "source": [
    "# Main developer: Longyi\n",
    "\n",
    "url <- \"https://raw.githubusercontent.com/Arcyill/STAT-301-Project/refs/heads/main/placementdata.csv\"\n",
    "\n",
    "placementData <- read.csv(url)"
   ]
  },
  {
   "cell_type": "markdown",
   "id": "70c0b7b1-fe46-4e40-9b14-c696c902e26e",
   "metadata": {},
   "source": [
    "### Source and Information\n",
    "The dataset used in this analysis is from the Kaggle Placement Prediction Dataset and was collected to study student placement outcomes based on academic performance, training efforts, and personal attributes.\n",
    "\n",
    "• Data Source: Kaggle\n",
    "\n",
    "• Collection Method: The dataset consists of 10,000 student records, each with 11 variables capturing academic scores, skill-building activities, and placement status.\n",
    "\n",
    "• Citation: https://www.kaggle.com/datasets/ruchikakumbhar/placement-prediction-dataset/data"
   ]
  },
  {
   "cell_type": "markdown",
   "id": "4342fc92-c4b8-4595-abba-df10360bbcae",
   "metadata": {},
   "source": [
    "### Pre-selection\n",
    "\n",
    "While it may be hard to determine what vairables to drop at this stage, we can drop StudentID because it just a unique identifier for each student, meaning it has no predictive power or meaningful relationship with PlacementStatus. Removing it will prevent unnecessary noise in our analysis and improve model interpretability\n"
   ]
  },
  {
   "cell_type": "code",
   "execution_count": 6,
   "id": "09ac040c-f2b5-4ed7-a9ec-52d5712e57e6",
   "metadata": {},
   "outputs": [
    {
     "ename": "SyntaxError",
     "evalue": "invalid syntax (3759327678.py, line 3)",
     "output_type": "error",
     "traceback": [
      "  \u001b[36mCell\u001b[39m\u001b[36m \u001b[39m\u001b[32mIn[6]\u001b[39m\u001b[32m, line 3\u001b[39m\n\u001b[31m    \u001b[39m\u001b[31mplacementData <- placementData |>\u001b[39m\n                                    ^\n\u001b[31mSyntaxError\u001b[39m\u001b[31m:\u001b[39m invalid syntax\n"
     ]
    }
   ],
   "source": [
    "# Main developer: Jeff\n",
    "\n",
    "placementData <- placementData |>\n",
    "    dplyr::select(-StudentID)\n",
    "\n",
    "head(placementData)"
   ]
  },
  {
   "cell_type": "markdown",
   "id": "66112169-d3cb-438d-a5fc-ccb3b05c271b",
   "metadata": {},
   "source": [
    "### Data cleaning"
   ]
  },
  {
   "cell_type": "code",
   "execution_count": 7,
   "id": "fade7ce2-74bb-42e0-8f0b-e951aff953e0",
   "metadata": {},
   "outputs": [
    {
     "ename": "SyntaxError",
     "evalue": "invalid syntax (1682863406.py, line 3)",
     "output_type": "error",
     "traceback": [
      "  \u001b[36mCell\u001b[39m\u001b[36m \u001b[39m\u001b[32mIn[7]\u001b[39m\u001b[32m, line 3\u001b[39m\n\u001b[31m    \u001b[39m\u001b[31mplacementData <- placementData |> drop_na()\u001b[39m\n                                    ^\n\u001b[31mSyntaxError\u001b[39m\u001b[31m:\u001b[39m invalid syntax\n"
     ]
    }
   ],
   "source": [
    "# Main developer: Longyi\n",
    "\n",
    "placementData <- placementData |> drop_na()\n",
    "head(placementData)"
   ]
  },
  {
   "cell_type": "markdown",
   "id": "aac2ee77-3c5c-4495-adbb-3549e2ae9a8e",
   "metadata": {},
   "source": [
    "## b) Exploratory Data Analysis (EDA)"
   ]
  },
  {
   "cell_type": "markdown",
   "id": "ad452628-3e15-4e42-acb3-f525f914109d",
   "metadata": {},
   "source": [
    "### Visualization 1"
   ]
  },
  {
   "cell_type": "code",
   "execution_count": 8,
   "id": "2f5e420c-e410-487f-99e1-472458924342",
   "metadata": {},
   "outputs": [
    {
     "ename": "SyntaxError",
     "evalue": "expression cannot contain assignment, perhaps you meant \"==\"? (1737484597.py, line 3)",
     "output_type": "error",
     "traceback": [
      "  \u001b[36mCell\u001b[39m\u001b[36m \u001b[39m\u001b[32mIn[8]\u001b[39m\u001b[32m, line 3\u001b[39m\n\u001b[31m    \u001b[39m\u001b[31moptions(repr.plot.width = 14, repr.plot.height = 6) #changing the dimensions of the graph\u001b[39m\n            ^\n\u001b[31mSyntaxError\u001b[39m\u001b[31m:\u001b[39m expression cannot contain assignment, perhaps you meant \"==\"?\n"
     ]
    }
   ],
   "source": [
    "# Main developer: Longyi\n",
    "\n",
    "options(repr.plot.width = 14, repr.plot.height = 6) #changing the dimensions of the graph\n",
    "\n",
    "ggplot(placementData, aes(x = CGPA, fill = PlacementStatus)) + \n",
    "  geom_histogram(position = \"stack\", alpha = 0.8, bins = 15) + #stacked histograms of CGPA filled by PlacementStatus\n",
    "  facet_wrap(~ Internships, labeller = label_both) + #splitting the plots based on the number of internships.  \n",
    "  labs( \n",
    "    title = \"Stacked Distribution of CGPA by Placement Status and Number of Internships\",\n",
    "    x = \"CGPA\",\n",
    "    y = \"Number of Students\",\n",
    "    fill = \"Placement Status\" \n",
    "  )#Labels"
   ]
  },
  {
   "cell_type": "markdown",
   "id": "64a73dbe-b24d-42ab-9e8f-017b85665128",
   "metadata": {},
   "source": [
    "The stacked histograms illustrate the distribution of students' CGPA, differentiated by Placement Status (using colour) and separated by the number of internships. From the plot, students with higher CGPA tend to secure placements more frequently, especially noticeable among students who, despite having no internships, have more placements than not placed. The plot also reveals that students with two internships show a higher likelihood of placement, even at somewhat lower CGPAs. Conversely, there's little visible distinction between students with zero or one internship in terms of CGPA distribution or placement outcomes.\n",
    "\n",
    "There is also a noticeable trend in CGPA distribution based on internship experience. This could be because students who actively pursue internships tend to maintain higher CGPAs overall or vice versa, as evident in the fact that students with 2 internships exhibit a distribution that's left-skewed (higher CGPAs), whereas students with 0 internships exhibit a right-skewed distribution (moderate to lower CGPAs).\n",
    "\n",
    "This visualization is relevant because it helps us explore the relationship between academic performance, practical experience, and placement success. The plot highlights that CGPA is a key factor in placement but also shows that internships may influence placement likelihood independently of GPA. By faceting the histogram by internship experience, we can observe how CGPA distributions shift based on the number of internships, revealing that students with more internships tend to have both higher CGPAs and higher placement rates. This is crucial for the inference question stated earlier, as it suggests that both academic achievement and internship experience may be important in securing a job placement.\n",
    "\n",
    "This is important because it means that excluding either one of these variables could lead to omitted variable bias. For example, if we were to exclude internships from our analysis, our model might overestimate the impact of CGPA on placement success, failing to account for the fact that internships provide an alternative pathway to placement, even for students with moderate CGPAs. On the other hand, omitting CGPA could lead to overstating the effect of internships, ignoring the clear trend that students with higher GPAs are generally more likely to be placed, regardless of internship experience. Therefore, our model should include both CGPA and internships at the very least."
   ]
  },
  {
   "cell_type": "markdown",
   "id": "aab1782f-3017-4ea5-b232-a080d8e49729",
   "metadata": {},
   "source": [
    "### Visualization 2"
   ]
  },
  {
   "cell_type": "markdown",
   "id": "fdb81963-4921-48d6-9d55-918dd5831d1a",
   "metadata": {},
   "source": [
    "The function in R to fit a logistic regression requires either a numerical response (0 and 1) or a `factor`, with two levels (note that R stores factors as integers). \n",
    "\n",
    "Mathematically, we have to construct a binary response $Y_i$ that flags the successes for a given event of interest: \n",
    "\n",
    "$$\n",
    "Y_i =\n",
    "\\begin{cases}\n",
    "1 \\; \\; \\; \\; \\mbox{if the $i$th observation is Placed},\\\\\n",
    "0 \\; \\; \\; \\; \t\\mbox{if the $i$th observation is NotPlaced}\n",
    "\\end{cases}\n",
    "$$\n",
    "\n",
    "Therefore, we will change PlacementStatus with values consisting of 1s and 0s. "
   ]
  },
  {
   "cell_type": "code",
   "execution_count": 9,
   "id": "61d684a8-4797-4404-a0a0-ccd8d6f3d213",
   "metadata": {},
   "outputs": [
    {
     "ename": "SyntaxError",
     "evalue": "invalid syntax (1957804954.py, line 4)",
     "output_type": "error",
     "traceback": [
      "  \u001b[36mCell\u001b[39m\u001b[36m \u001b[39m\u001b[32mIn[9]\u001b[39m\u001b[32m, line 4\u001b[39m\n\u001b[31m    \u001b[39m\u001b[31mplacementData <- placementData %>%\u001b[39m\n                                    ^\n\u001b[31mSyntaxError\u001b[39m\u001b[31m:\u001b[39m invalid syntax\n"
     ]
    }
   ],
   "source": [
    "# Main developer: Jeff\n",
    "# Contributors: Longyi\n",
    "\n",
    "placementData <- placementData %>%\n",
    "#We will do the same with other binary data\n",
    "        mutate(ExtracurricularActivities = if_else(ExtracurricularActivities == \"Yes\", 1, 0),       \n",
    "        PlacementTraining = if_else(PlacementTraining == \"Yes\", 1, 0),\n",
    "        PlacementStatus = if_else(PlacementStatus == \"Placed\", 1, 0))\n",
    "head(placementData)\n"
   ]
  },
  {
   "cell_type": "code",
   "execution_count": 10,
   "id": "ad3296c0-d5bd-4af3-a7da-60c23f4f0b61",
   "metadata": {},
   "outputs": [
    {
     "ename": "SyntaxError",
     "evalue": "expression cannot contain assignment, perhaps you meant \"==\"? (2782456674.py, line 4)",
     "output_type": "error",
     "traceback": [
      "  \u001b[36mCell\u001b[39m\u001b[36m \u001b[39m\u001b[32mIn[10]\u001b[39m\u001b[32m, line 4\u001b[39m\n\u001b[31m    \u001b[39m\u001b[31moptions(repr.plot.width = 16, repr.plot.height = 9)\u001b[39m\n            ^\n\u001b[31mSyntaxError\u001b[39m\u001b[31m:\u001b[39m expression cannot contain assignment, perhaps you meant \"==\"?\n"
     ]
    }
   ],
   "source": [
    "# Main developer: Jeff\n",
    "# Contributors: Longyi\n",
    "\n",
    "options(repr.plot.width = 16, repr.plot.height = 9)\n",
    "\n",
    "data_heatgraph <- placementData |> \n",
    "  cor() |>  #Compute correlation matrix for all numeric variables\n",
    "  as.data.frame() |> # Convert matrix to dataframe \n",
    "  rownames_to_column(var = \"var1\") |>\n",
    "  pivot_longer(-var1, names_to = \"var2\", values_to = \"corr\") \n",
    "\n",
    "\n",
    "heatgraph <- data_heatgraph |> \n",
    "  ggplot(aes(x = var1, y = var2)) +\n",
    "  geom_tile(aes(fill = corr)) +\n",
    "  scale_fill_distiller(\n",
    "    name = \"Correlation Coefficient\",\n",
    "    palette = \"YlOrRd\",\n",
    "    direction = 1\n",
    "  ) +\n",
    "  geom_text(\n",
    "    aes(label = round(corr, 2)),\n",
    "    color = \"black\",\n",
    "    size = 3\n",
    "  ) +\n",
    "  theme_minimal() +\n",
    "  theme(\n",
    "    axis.text.x = element_text(angle = 45, hjust = 1),\n",
    "    axis.text.y = element_text(size = 10),\n",
    "    legend.position = \"right\"\n",
    "  ) +\n",
    "  labs(x = NULL, y = NULL)\n",
    "\n",
    "heatgraph"
   ]
  },
  {
   "cell_type": "markdown",
   "id": "147a545e-481e-41a6-a82c-2fa3c5d23812",
   "metadata": {},
   "source": [
    "The heatmap provides a quick and intuitive overview of which predictors are more strongly associated with placement outcomes, helping to prioritize variables for further analysis. Notably, the heatmap shows that the strongest relationships with PlacementStatus, are AptitudeTestScore (0.52) and HSC_Marks (0.51), suggesting that higher aptitude test scores and high school academic performance are closely linked to successful job placements. Other notable factors include Projects (0.48), SSC_Marks (0.47), ExtracurricularActivities (0.48), SoftSkillsRating (0.43), and CGPA (0.42), each demonstrating moderate positive relationships with placement outcomes. On the other hand, factors like Internships (0.26), PlacementTraining (0.32), and Workshops.Certifications (0.36) have weaker correlations, suggesting that while they're still beneficial, they may not be primary predictors of placement success.\n",
    "\n",
    "The graph also suggests that possible multicollinearity may be present between the predictors. For example, variables like HSC_Marks, SSC_Marks, and AptitudeTestScore show moderate correlations with each other (eg. above 0.5). However, a correlation of just above 0.5 is not enough to suggest multicollinearity between the variables, and VIF will be used later on to determine whether multicollinearity is present."
   ]
  },
  {
   "cell_type": "markdown",
   "id": "4aecef7b-18b9-448f-875d-c2e07ead59d2",
   "metadata": {},
   "source": [
    "## c) Methods: Plan"
   ]
  },
  {
   "cell_type": "markdown",
   "id": "468e9b48-ef39-45fd-9ce0-f1e484cd7fe4",
   "metadata": {},
   "source": [
    "Before fitting the model, the data is first split into training and testing sets using stratified sampling on PlacementStatus. All model fitting and variable selection are done only using the training set to avoid overfitting and ensure valid model evaluation. \n",
    "\n",
    "Next, variable selection using stepAIC will be performed to only select the relevant variables. Specifically, forward selection is being used because we believe a lot of students are busy balancing multiple responsibilities and time constraints often make it hard to excel in all areas. By building the model incrementally, only the most informative predictors are included, reducing complexity and improving interpretability. \n",
    "\n",
    "\n",
    "The model used to address the research question will be logistic regression. This method will model the binary outcome of placement status (placed or not placed based on the variables selected. Logistic regression is appropriate because placement status is binary. Logistic regression models the probability of placement and allows for the interpretation of how each predictor influences this probability through odd ratios.\n",
    "\n",
    "There are several assumptions:\n",
    "\n",
    "- Observations of placement outcomes for each student must be independent of each other\n",
    "- Predictors must have a linear relationship with the log odds of the placement outcome.\n",
    "- Predictor variables are not highly correlated with one another.\n",
    "- There are no significant outliers that may disproportionately impact the parameter estimates\n",
    "\n",
    "Potential Limitations:\n",
    "\n",
    "- One limitation is that the assumption of linearity between predictors and log odds might not hold, requiring transformations or additional modelling techniques.\n",
    "- Another limitation is that significant outliers can heavily bias the coefficients and degrade the model performance. \n",
    "\n",
    "\n",
    "Once the final logistic regression is fit using the training set, model comparison using ANOVA, and diagnostics such as Variance Inflation Factor (VIF) to detect multicollinearity, will be performed using the training data only, as they are part of the model development process.\n",
    "\n",
    "If it has passed diagnostic checks, its performance will be evaluated on the testing set. Specifically, predictions will be generated on test data, and a confusion matrix and classification accuracy will be used to assess how well the model generalizes to unseen data. These metric will be used to provide insight into the model's predictive ability. \n"
   ]
  },
  {
   "cell_type": "code",
   "execution_count": 11,
   "id": "ec4f8048-ef21-4975-9799-042dc7bab26a",
   "metadata": {},
   "outputs": [
    {
     "ename": "AttributeError",
     "evalue": "type object 'set' has no attribute 'seed'",
     "output_type": "error",
     "traceback": [
      "\u001b[31m---------------------------------------------------------------------------\u001b[39m",
      "\u001b[31mAttributeError\u001b[39m                            Traceback (most recent call last)",
      "\u001b[36mCell\u001b[39m\u001b[36m \u001b[39m\u001b[32mIn[11]\u001b[39m\u001b[32m, line 3\u001b[39m\n\u001b[32m      1\u001b[39m \u001b[38;5;66;03m# Main developer: Jeff\u001b[39;00m\n\u001b[32m----> \u001b[39m\u001b[32m3\u001b[39m \u001b[38;5;28;43mset\u001b[39;49m\u001b[43m.\u001b[49m\u001b[43mseed\u001b[49m(\u001b[32m123\u001b[39m) \u001b[38;5;66;03m# we set a seed to make our code reproductible \u001b[39;00m\n\u001b[32m      4\u001b[39m placementData_split <- initial_split(placementData, prop = \u001b[32m0.7\u001b[39m, strata = PlacementStatus)\n\u001b[32m      5\u001b[39m \u001b[38;5;66;03m#splitting the data into training and testing\u001b[39;00m\n",
      "\u001b[31mAttributeError\u001b[39m: type object 'set' has no attribute 'seed'"
     ]
    }
   ],
   "source": [
    "# Main developer: Jeff\n",
    "\n",
    "set.seed(123) # we set a seed to make our code reproductible \n",
    "placementData_split <- initial_split(placementData, prop = 0.7, strata = PlacementStatus)\n",
    "#splitting the data into training and testing\n",
    "placementData_training <- training(placementData_split)\n",
    "placementData_testing <- testing(placementData_split)\n",
    "head(placementData_training)"
   ]
  },
  {
   "cell_type": "code",
   "execution_count": null,
   "id": "29e04f45-4b15-47f3-b302-12c0e41926eb",
   "metadata": {},
   "outputs": [
    {
     "name": "stdout",
     "output_type": "stream",
     "text": [
      "Start:  AIC=9523.06\n",
      "PlacementStatus ~ 1\n",
      "\n",
      "                            Df Deviance    AIC\n",
      "+ AptitudeTestScore          1   7342.8 7346.8\n",
      "+ HSC_Marks                  1   7625.4 7629.4\n",
      "+ ExtracurricularActivities  1   7767.4 7771.4\n",
      "+ Projects                   1   7823.8 7827.8\n",
      "+ SSC_Marks                  1   7827.0 7831.0\n",
      "+ SoftSkillsRating           1   8087.7 8091.7\n",
      "+ CGPA                       1   8100.7 8104.7\n",
      "+ Workshops.Certifications   1   8632.3 8636.3\n",
      "+ PlacementTraining          1   8771.9 8775.9\n",
      "+ Internships                1   9054.9 9058.9\n",
      "<none>                           9521.1 9523.1\n",
      "\n",
      "Step:  AIC=7346.77\n",
      "PlacementStatus ~ AptitudeTestScore\n",
      "\n",
      "                            Df Deviance    AIC\n",
      "+ ExtracurricularActivities  1   6710.2 6716.2\n",
      "+ SSC_Marks                  1   6840.9 6846.9\n",
      "+ HSC_Marks                  1   6857.0 6863.0\n",
      "+ Projects                   1   6921.4 6927.4\n",
      "+ CGPA                       1   6939.3 6945.3\n",
      "+ SoftSkillsRating           1   7025.3 7031.3\n",
      "+ PlacementTraining          1   7065.2 7071.2\n",
      "+ Workshops.Certifications   1   7137.5 7143.5\n",
      "+ Internships                1   7277.9 7283.9\n",
      "<none>                           7342.8 7346.8\n",
      "\n",
      "Step:  AIC=6716.15\n",
      "PlacementStatus ~ AptitudeTestScore + ExtracurricularActivities\n",
      "\n",
      "                           Df Deviance    AIC\n",
      "+ SSC_Marks                 1   6495.9 6503.9\n",
      "+ HSC_Marks                 1   6519.4 6527.4\n",
      "+ Projects                  1   6526.2 6534.2\n",
      "+ CGPA                      1   6535.4 6543.4\n",
      "+ PlacementTraining         1   6559.5 6567.5\n",
      "+ SoftSkillsRating          1   6571.0 6579.0\n",
      "+ Workshops.Certifications  1   6632.6 6640.6\n",
      "+ Internships               1   6690.5 6698.5\n",
      "<none>                          6710.2 6716.2\n",
      "\n",
      "Step:  AIC=6503.87\n",
      "PlacementStatus ~ AptitudeTestScore + ExtracurricularActivities + \n",
      "    SSC_Marks\n",
      "\n",
      "                           Df Deviance    AIC\n",
      "+ PlacementTraining         1   6349.5 6359.5\n",
      "+ CGPA                      1   6365.5 6375.5\n",
      "+ HSC_Marks                 1   6381.3 6391.3\n",
      "+ Projects                  1   6383.7 6393.7\n",
      "+ SoftSkillsRating          1   6399.1 6409.1\n",
      "+ Workshops.Certifications  1   6450.8 6460.8\n",
      "+ Internships               1   6486.0 6496.0\n",
      "<none>                          6495.9 6503.9\n",
      "\n",
      "Step:  AIC=6359.52\n",
      "PlacementStatus ~ AptitudeTestScore + ExtracurricularActivities + \n",
      "    SSC_Marks + PlacementTraining\n",
      "\n",
      "                           Df Deviance    AIC\n",
      "+ CGPA                      1   6230.4 6242.4\n",
      "+ Projects                  1   6252.1 6264.1\n",
      "+ SoftSkillsRating          1   6255.3 6267.3\n",
      "+ HSC_Marks                 1   6259.9 6271.9\n",
      "+ Workshops.Certifications  1   6304.3 6316.3\n",
      "+ Internships               1   6340.5 6352.5\n",
      "<none>                          6349.5 6359.5\n",
      "\n",
      "Step:  AIC=6242.43\n",
      "PlacementStatus ~ AptitudeTestScore + ExtracurricularActivities + \n",
      "    SSC_Marks + PlacementTraining + CGPA\n",
      "\n",
      "                           Df Deviance    AIC\n",
      "+ SoftSkillsRating          1   6157.7 6171.7\n",
      "+ Projects                  1   6159.9 6173.9\n",
      "+ HSC_Marks                 1   6170.9 6184.9\n",
      "+ Workshops.Certifications  1   6203.7 6217.7\n",
      "+ Internships               1   6227.6 6241.6\n",
      "<none>                          6230.4 6242.4\n",
      "\n",
      "Step:  AIC=6171.74\n",
      "PlacementStatus ~ AptitudeTestScore + ExtracurricularActivities + \n",
      "    SSC_Marks + PlacementTraining + CGPA + SoftSkillsRating\n",
      "\n",
      "                           Df Deviance    AIC\n",
      "+ Projects                  1   6104.2 6120.2\n",
      "+ HSC_Marks                 1   6114.3 6130.3\n",
      "+ Workshops.Certifications  1   6139.6 6155.6\n",
      "<none>                          6157.7 6171.7\n",
      "+ Internships               1   6156.2 6172.2\n",
      "\n",
      "Step:  AIC=6120.18\n",
      "PlacementStatus ~ AptitudeTestScore + ExtracurricularActivities + \n",
      "    SSC_Marks + PlacementTraining + CGPA + SoftSkillsRating + \n",
      "    Projects\n",
      "\n",
      "                           Df Deviance    AIC\n",
      "+ HSC_Marks                 1   6074.0 6092.0\n",
      "+ Workshops.Certifications  1   6091.7 6109.7\n",
      "<none>                          6104.2 6120.2\n",
      "+ Internships               1   6103.7 6121.7\n",
      "\n",
      "Step:  AIC=6091.95\n",
      "PlacementStatus ~ AptitudeTestScore + ExtracurricularActivities + \n",
      "    SSC_Marks + PlacementTraining + CGPA + SoftSkillsRating + \n",
      "    Projects + HSC_Marks\n",
      "\n",
      "                           Df Deviance    AIC\n",
      "+ Workshops.Certifications  1   6065.6 6085.6\n",
      "<none>                          6074.0 6092.0\n",
      "+ Internships               1   6073.9 6093.9\n",
      "\n",
      "Step:  AIC=6085.63\n",
      "PlacementStatus ~ AptitudeTestScore + ExtracurricularActivities + \n",
      "    SSC_Marks + PlacementTraining + CGPA + SoftSkillsRating + \n",
      "    Projects + HSC_Marks + Workshops.Certifications\n",
      "\n",
      "              Df Deviance    AIC\n",
      "<none>             6065.6 6085.6\n",
      "+ Internships  1   6065.6 6087.6\n"
     ]
    },
    {
     "data": {
      "text/plain": [
       "\n",
       "Call:\n",
       "glm(formula = PlacementStatus ~ AptitudeTestScore + ExtracurricularActivities + \n",
       "    SSC_Marks + PlacementTraining + CGPA + SoftSkillsRating + \n",
       "    Projects + HSC_Marks + Workshops.Certifications, family = \"binomial\", \n",
       "    data = placementData_training)\n",
       "\n",
       "Coefficients:\n",
       "                            Estimate Std. Error z value Pr(>|z|)    \n",
       "(Intercept)               -18.252114   0.632117 -28.875  < 2e-16 ***\n",
       "AptitudeTestScore           0.069434   0.005570  12.465  < 2e-16 ***\n",
       "ExtracurricularActivities   0.730853   0.080437   9.086  < 2e-16 ***\n",
       "SSC_Marks                   0.033101   0.003748   8.832  < 2e-16 ***\n",
       "PlacementTraining           0.887372   0.085136  10.423  < 2e-16 ***\n",
       "CGPA                        0.458496   0.060208   7.615 2.63e-14 ***\n",
       "SoftSkillsRating            0.651028   0.100664   6.467 9.97e-11 ***\n",
       "Projects                    0.272739   0.044543   6.123 9.18e-10 ***\n",
       "HSC_Marks                   0.023426   0.004575   5.121 3.04e-07 ***\n",
       "Workshops.Certifications    0.110062   0.038029   2.894   0.0038 ** \n",
       "---\n",
       "Signif. codes:  0 ‘***’ 0.001 ‘**’ 0.01 ‘*’ 0.05 ‘.’ 0.1 ‘ ’ 1\n",
       "\n",
       "(Dispersion parameter for binomial family taken to be 1)\n",
       "\n",
       "    Null deviance: 9521.1  on 6998  degrees of freedom\n",
       "Residual deviance: 6065.6  on 6989  degrees of freedom\n",
       "AIC: 6085.6\n",
       "\n",
       "Number of Fisher Scoring iterations: 5\n"
      ]
     },
     "metadata": {},
     "output_type": "display_data"
    }
   ],
   "source": [
    "# Main developer: Jeff\n",
    "\n",
    "null_model <- glm(PlacementStatus ~ 1, data = placementData_training, family = 'binomial')\n",
    "full_model <- glm(PlacementStatus ~ ., data = placementData_training, family = 'binomial')\n",
    "step_model <- MASS::stepAIC(null_model, scope = list(lower = null_model, upper = full_model), direction = \"forward\")\n",
    "summary(step_model)"
   ]
  },
  {
   "cell_type": "markdown",
   "id": "b1f0bc70-d396-43a5-bf69-9175365b21c5",
   "metadata": {},
   "source": [
    "The stepwise AIC selection process helped find the most important factors that influence whether a student gets placed. When we added AptitudeTestScore, the AIC dropped significantly from 9523.1 to 7346.77, indicating a huge improvement. When we added ExtracurricularActivites, AIC again shows a drop to 6716.15，showing that extracurricular activities adds substantial predictive value. The rest are also added in the following order: SSC_Marks, PlacementTraining, CGPA, SoftSkillsRating, Projects, HSC_Marks, Workshop.Certifications. However, Internships were never included because it never reduced the AIC enough to justify its complexity.\n",
    "\n",
    "Furthermore, the model is much better at predicting placement outcomes compared to using no predictors, as shown by the significant drop in AIC (from 9523.06 to 6085.6) and residual deviance (from 9521.1 to 6065.6). Evidently, the selected predictors significantly improve the fit of the model. "
   ]
  },
  {
   "cell_type": "code",
   "execution_count": null,
   "id": "ca245491-ab9e-4751-8f70-080927c291c2",
   "metadata": {},
   "outputs": [
    {
     "data": {
      "text/plain": [
       "\n",
       "Call:\n",
       "glm(formula = PlacementStatus ~ AptitudeTestScore + ExtracurricularActivities + \n",
       "    SSC_Marks + PlacementTraining + CGPA + SoftSkillsRating + \n",
       "    Projects + HSC_Marks + Workshops.Certifications, family = \"binomial\", \n",
       "    data = placementData_training)\n",
       "\n",
       "Coefficients:\n",
       "                            Estimate Std. Error z value Pr(>|z|)    \n",
       "(Intercept)               -18.252114   0.632117 -28.875  < 2e-16 ***\n",
       "AptitudeTestScore           0.069434   0.005570  12.465  < 2e-16 ***\n",
       "ExtracurricularActivities   0.730853   0.080437   9.086  < 2e-16 ***\n",
       "SSC_Marks                   0.033101   0.003748   8.832  < 2e-16 ***\n",
       "PlacementTraining           0.887372   0.085136  10.423  < 2e-16 ***\n",
       "CGPA                        0.458496   0.060208   7.615 2.63e-14 ***\n",
       "SoftSkillsRating            0.651028   0.100664   6.467 9.97e-11 ***\n",
       "Projects                    0.272739   0.044543   6.123 9.18e-10 ***\n",
       "HSC_Marks                   0.023426   0.004575   5.121 3.04e-07 ***\n",
       "Workshops.Certifications    0.110062   0.038029   2.894   0.0038 ** \n",
       "---\n",
       "Signif. codes:  0 ‘***’ 0.001 ‘**’ 0.01 ‘*’ 0.05 ‘.’ 0.1 ‘ ’ 1\n",
       "\n",
       "(Dispersion parameter for binomial family taken to be 1)\n",
       "\n",
       "    Null deviance: 9521.1  on 6998  degrees of freedom\n",
       "Residual deviance: 6065.6  on 6989  degrees of freedom\n",
       "AIC: 6085.6\n",
       "\n",
       "Number of Fisher Scoring iterations: 5\n"
      ]
     },
     "metadata": {},
     "output_type": "display_data"
    },
    {
     "data": {
      "text/html": [
       "<table class=\"dataframe\">\n",
       "<caption>A tibble: 10 × 7</caption>\n",
       "<thead>\n",
       "\t<tr><th scope=col>term</th><th scope=col>estimate</th><th scope=col>std.error</th><th scope=col>statistic</th><th scope=col>p.value</th><th scope=col>conf.low</th><th scope=col>conf.high</th></tr>\n",
       "\t<tr><th scope=col>&lt;chr&gt;</th><th scope=col>&lt;dbl&gt;</th><th scope=col>&lt;dbl&gt;</th><th scope=col>&lt;dbl&gt;</th><th scope=col>&lt;dbl&gt;</th><th scope=col>&lt;dbl&gt;</th><th scope=col>&lt;dbl&gt;</th></tr>\n",
       "</thead>\n",
       "<tbody>\n",
       "\t<tr><td>(Intercept)              </td><td>1.183607e-08</td><td>0.632116855</td><td>-28.874589</td><td>2.489751e-183</td><td>3.390612e-09</td><td>4.041745e-08</td></tr>\n",
       "\t<tr><td>AptitudeTestScore        </td><td>1.071901e+00</td><td>0.005570198</td><td> 12.465275</td><td> 1.154728e-35</td><td>1.060296e+00</td><td>1.083706e+00</td></tr>\n",
       "\t<tr><td>ExtracurricularActivities</td><td>2.076852e+00</td><td>0.080437500</td><td>  9.085975</td><td> 1.027736e-19</td><td>1.774123e+00</td><td>2.431925e+00</td></tr>\n",
       "\t<tr><td>SSC_Marks                </td><td>1.033655e+00</td><td>0.003747912</td><td>  8.831841</td><td> 1.029664e-18</td><td>1.026093e+00</td><td>1.041282e+00</td></tr>\n",
       "\t<tr><td>PlacementTraining        </td><td>2.428739e+00</td><td>0.085136252</td><td> 10.422966</td><td> 1.947831e-25</td><td>2.057181e+00</td><td>2.872425e+00</td></tr>\n",
       "\t<tr><td>CGPA                     </td><td>1.581694e+00</td><td>0.060207701</td><td>  7.615246</td><td> 2.631887e-14</td><td>1.405964e+00</td><td>1.780300e+00</td></tr>\n",
       "\t<tr><td>SoftSkillsRating         </td><td>1.917511e+00</td><td>0.100663564</td><td>  6.467367</td><td> 9.972557e-11</td><td>1.574749e+00</td><td>2.336759e+00</td></tr>\n",
       "\t<tr><td>Projects                 </td><td>1.313557e+00</td><td>0.044543082</td><td>  6.123040</td><td> 9.180669e-10</td><td>1.203603e+00</td><td>1.433268e+00</td></tr>\n",
       "\t<tr><td>HSC_Marks                </td><td>1.023703e+00</td><td>0.004574667</td><td>  5.120883</td><td> 3.041078e-07</td><td>1.014556e+00</td><td>1.032917e+00</td></tr>\n",
       "\t<tr><td>Workshops.Certifications </td><td>1.116348e+00</td><td>0.038028717</td><td>  2.894190</td><td> 3.801380e-03</td><td>1.036018e+00</td><td>1.202590e+00</td></tr>\n",
       "</tbody>\n",
       "</table>\n"
      ],
      "text/latex": [
       "A tibble: 10 × 7\n",
       "\\begin{tabular}{lllllll}\n",
       " term & estimate & std.error & statistic & p.value & conf.low & conf.high\\\\\n",
       " <chr> & <dbl> & <dbl> & <dbl> & <dbl> & <dbl> & <dbl>\\\\\n",
       "\\hline\n",
       "\t (Intercept)               & 1.183607e-08 & 0.632116855 & -28.874589 & 2.489751e-183 & 3.390612e-09 & 4.041745e-08\\\\\n",
       "\t AptitudeTestScore         & 1.071901e+00 & 0.005570198 &  12.465275 &  1.154728e-35 & 1.060296e+00 & 1.083706e+00\\\\\n",
       "\t ExtracurricularActivities & 2.076852e+00 & 0.080437500 &   9.085975 &  1.027736e-19 & 1.774123e+00 & 2.431925e+00\\\\\n",
       "\t SSC\\_Marks                 & 1.033655e+00 & 0.003747912 &   8.831841 &  1.029664e-18 & 1.026093e+00 & 1.041282e+00\\\\\n",
       "\t PlacementTraining         & 2.428739e+00 & 0.085136252 &  10.422966 &  1.947831e-25 & 2.057181e+00 & 2.872425e+00\\\\\n",
       "\t CGPA                      & 1.581694e+00 & 0.060207701 &   7.615246 &  2.631887e-14 & 1.405964e+00 & 1.780300e+00\\\\\n",
       "\t SoftSkillsRating          & 1.917511e+00 & 0.100663564 &   6.467367 &  9.972557e-11 & 1.574749e+00 & 2.336759e+00\\\\\n",
       "\t Projects                  & 1.313557e+00 & 0.044543082 &   6.123040 &  9.180669e-10 & 1.203603e+00 & 1.433268e+00\\\\\n",
       "\t HSC\\_Marks                 & 1.023703e+00 & 0.004574667 &   5.120883 &  3.041078e-07 & 1.014556e+00 & 1.032917e+00\\\\\n",
       "\t Workshops.Certifications  & 1.116348e+00 & 0.038028717 &   2.894190 &  3.801380e-03 & 1.036018e+00 & 1.202590e+00\\\\\n",
       "\\end{tabular}\n"
      ],
      "text/markdown": [
       "\n",
       "A tibble: 10 × 7\n",
       "\n",
       "| term &lt;chr&gt; | estimate &lt;dbl&gt; | std.error &lt;dbl&gt; | statistic &lt;dbl&gt; | p.value &lt;dbl&gt; | conf.low &lt;dbl&gt; | conf.high &lt;dbl&gt; |\n",
       "|---|---|---|---|---|---|---|\n",
       "| (Intercept)               | 1.183607e-08 | 0.632116855 | -28.874589 | 2.489751e-183 | 3.390612e-09 | 4.041745e-08 |\n",
       "| AptitudeTestScore         | 1.071901e+00 | 0.005570198 |  12.465275 |  1.154728e-35 | 1.060296e+00 | 1.083706e+00 |\n",
       "| ExtracurricularActivities | 2.076852e+00 | 0.080437500 |   9.085975 |  1.027736e-19 | 1.774123e+00 | 2.431925e+00 |\n",
       "| SSC_Marks                 | 1.033655e+00 | 0.003747912 |   8.831841 |  1.029664e-18 | 1.026093e+00 | 1.041282e+00 |\n",
       "| PlacementTraining         | 2.428739e+00 | 0.085136252 |  10.422966 |  1.947831e-25 | 2.057181e+00 | 2.872425e+00 |\n",
       "| CGPA                      | 1.581694e+00 | 0.060207701 |   7.615246 |  2.631887e-14 | 1.405964e+00 | 1.780300e+00 |\n",
       "| SoftSkillsRating          | 1.917511e+00 | 0.100663564 |   6.467367 |  9.972557e-11 | 1.574749e+00 | 2.336759e+00 |\n",
       "| Projects                  | 1.313557e+00 | 0.044543082 |   6.123040 |  9.180669e-10 | 1.203603e+00 | 1.433268e+00 |\n",
       "| HSC_Marks                 | 1.023703e+00 | 0.004574667 |   5.120883 |  3.041078e-07 | 1.014556e+00 | 1.032917e+00 |\n",
       "| Workshops.Certifications  | 1.116348e+00 | 0.038028717 |   2.894190 |  3.801380e-03 | 1.036018e+00 | 1.202590e+00 |\n",
       "\n"
      ],
      "text/plain": [
       "   term                      estimate     std.error   statistic  p.value      \n",
       "1  (Intercept)               1.183607e-08 0.632116855 -28.874589 2.489751e-183\n",
       "2  AptitudeTestScore         1.071901e+00 0.005570198  12.465275  1.154728e-35\n",
       "3  ExtracurricularActivities 2.076852e+00 0.080437500   9.085975  1.027736e-19\n",
       "4  SSC_Marks                 1.033655e+00 0.003747912   8.831841  1.029664e-18\n",
       "5  PlacementTraining         2.428739e+00 0.085136252  10.422966  1.947831e-25\n",
       "6  CGPA                      1.581694e+00 0.060207701   7.615246  2.631887e-14\n",
       "7  SoftSkillsRating          1.917511e+00 0.100663564   6.467367  9.972557e-11\n",
       "8  Projects                  1.313557e+00 0.044543082   6.123040  9.180669e-10\n",
       "9  HSC_Marks                 1.023703e+00 0.004574667   5.120883  3.041078e-07\n",
       "10 Workshops.Certifications  1.116348e+00 0.038028717   2.894190  3.801380e-03\n",
       "   conf.low     conf.high   \n",
       "1  3.390612e-09 4.041745e-08\n",
       "2  1.060296e+00 1.083706e+00\n",
       "3  1.774123e+00 2.431925e+00\n",
       "4  1.026093e+00 1.041282e+00\n",
       "5  2.057181e+00 2.872425e+00\n",
       "6  1.405964e+00 1.780300e+00\n",
       "7  1.574749e+00 2.336759e+00\n",
       "8  1.203603e+00 1.433268e+00\n",
       "9  1.014556e+00 1.032917e+00\n",
       "10 1.036018e+00 1.202590e+00"
      ]
     },
     "metadata": {},
     "output_type": "display_data"
    }
   ],
   "source": [
    "# Main developer: Jeff\n",
    "# Contributors: Daniel\n",
    "\n",
    "final_model <- glm(PlacementStatus ~ AptitudeTestScore + ExtracurricularActivities + SSC_Marks + PlacementTraining + CGPA + SoftSkillsRating + Projects + HSC_Marks + Workshops.Certifications, \n",
    "                   data = placementData_training, family = 'binomial') #fitting the model with the slected predictors\n",
    "summary(final_model)\n",
    "tidy(final_model, conf.int = TRUE, exponentiate = TRUE) #exponentiating the coeffcients for easier interpretation"
   ]
  },
  {
   "cell_type": "markdown",
   "id": "68cbca24-7f11-408a-a03a-0ebf12813bc4",
   "metadata": {},
   "source": [
    "All predictors in the final logistic regression model are statistically significant at a confidence level of 95% and positively associated with placement. However, it is worth noting that some have stronger effects than others. Notably, a unit increase in PlacementTraining is associated with an increase in PlacementStatus by a factor of 2.43. Similarly, a unit increase in ExtracurricularActivities is associated with an increase in PlacementStatus by a factor of 2.08, and a unit increase in SoftSkillsRating is associated with an increase in PlacementStatus by a factor of 1.92. Smaller but still meaningful effects are observed for CGPA (a factor of 1.58), Projects (a factor of 1.31), Workshops.Certifications (a factor of 1.12), AptitudeTestScore (a factor of 1.07), SSC_Marks (a factor of 1.03), and HSC_Marks (a factor of 1.02). Overall, this suggests that students may benefit from not only maintaining strong academic records but also actively engaging in soft skill development and practical experiences to enhance their placement prospects.\n",
    "\n"
   ]
  },
  {
   "cell_type": "code",
   "execution_count": null,
   "id": "3c9e1cab-c176-4d2b-a3c7-01c1e80e6da8",
   "metadata": {},
   "outputs": [
    {
     "data": {
      "text/plain": [
       "         Actual\n",
       "Predicted    0    1\n",
       "        0 1426  283\n",
       "        1  315  977"
      ]
     },
     "metadata": {},
     "output_type": "display_data"
    }
   ],
   "source": [
    "# Main developer: Daniel\n",
    "\n",
    "# Confusion Matrix\n",
    "predictions <- predict(final_model, placementData_testing, type = \"response\") #generate predicted probabilities for the test set\n",
    "predicted_classes <- ifelse(predictions > 0.5, 1, 0) #Convert probability to (1 = Placed, 0 = NotPlaced\n",
    "table(Predicted = predicted_classes, Actual = placementData_testing$PlacementStatus) #Creating the confusion Matrix"
   ]
  },
  {
   "cell_type": "markdown",
   "id": "354a3614-99f1-4baa-bec9-6cc0897c1ad9",
   "metadata": {},
   "source": [
    "Looking at the Confusion Matrix, we can see that the Type 1 Error Rate is (315/(215+1426)) = 0.181. This means that 18.1% of studnets who were not placed were incorrectly predicted to be placed. Meanwhile the Type 2 error rate is $\\frac{283}{(283+977)} = 0.225$. This indicates that that 22.5% of students who were actually placed were predicted to not be placed. On a positive note, the accuracy of the model is $\\frac{977+1426}{3001} = 0.801$, which is roughly about 80.1%. This means that the model correctly cassified 80.2% of the test observations. "
   ]
  },
  {
   "cell_type": "code",
   "execution_count": null,
   "id": "719a8ed3-7397-40c5-a378-3afe3feb39ea",
   "metadata": {},
   "outputs": [
    {
     "data": {
      "text/html": [
       "<style>\n",
       ".dl-inline {width: auto; margin:0; padding: 0}\n",
       ".dl-inline>dt, .dl-inline>dd {float: none; width: auto; display: inline-block}\n",
       ".dl-inline>dt::after {content: \":\\0020\"; padding-right: .5ex}\n",
       ".dl-inline>dt:not(:first-of-type) {padding-left: .5ex}\n",
       "</style><dl class=dl-inline><dt>AptitudeTestScore</dt><dd>1.36811413440677</dd><dt>ExtracurricularActivities</dt><dd>1.27827442105567</dd><dt>SSC_Marks</dt><dd>1.28356522070466</dd><dt>PlacementTraining</dt><dd>1.02285806618703</dd><dt>CGPA</dt><dd>1.20677131664544</dd><dt>SoftSkillsRating</dt><dd>1.24806193734627</dd><dt>Projects</dt><dd>1.32839653536623</dd><dt>HSC_Marks</dt><dd>1.46662209594906</dd><dt>Workshops.Certifications</dt><dd>1.18422588728218</dd></dl>\n"
      ],
      "text/latex": [
       "\\begin{description*}\n",
       "\\item[AptitudeTestScore] 1.36811413440677\n",
       "\\item[ExtracurricularActivities] 1.27827442105567\n",
       "\\item[SSC\\textbackslash{}\\_Marks] 1.28356522070466\n",
       "\\item[PlacementTraining] 1.02285806618703\n",
       "\\item[CGPA] 1.20677131664544\n",
       "\\item[SoftSkillsRating] 1.24806193734627\n",
       "\\item[Projects] 1.32839653536623\n",
       "\\item[HSC\\textbackslash{}\\_Marks] 1.46662209594906\n",
       "\\item[Workshops.Certifications] 1.18422588728218\n",
       "\\end{description*}\n"
      ],
      "text/markdown": [
       "AptitudeTestScore\n",
       ":   1.36811413440677ExtracurricularActivities\n",
       ":   1.27827442105567SSC_Marks\n",
       ":   1.28356522070466PlacementTraining\n",
       ":   1.02285806618703CGPA\n",
       ":   1.20677131664544SoftSkillsRating\n",
       ":   1.24806193734627Projects\n",
       ":   1.32839653536623HSC_Marks\n",
       ":   1.46662209594906Workshops.Certifications\n",
       ":   1.18422588728218\n",
       "\n"
      ],
      "text/plain": [
       "        AptitudeTestScore ExtracurricularActivities                 SSC_Marks \n",
       "                 1.368114                  1.278274                  1.283565 \n",
       "        PlacementTraining                      CGPA          SoftSkillsRating \n",
       "                 1.022858                  1.206771                  1.248062 \n",
       "                 Projects                 HSC_Marks  Workshops.Certifications \n",
       "                 1.328397                  1.466622                  1.184226 "
      ]
     },
     "metadata": {},
     "output_type": "display_data"
    },
    {
     "data": {
      "text/html": [
       "<table class=\"dataframe\">\n",
       "<caption>A anova: 2 × 5</caption>\n",
       "<thead>\n",
       "\t<tr><th></th><th scope=col>Resid. Df</th><th scope=col>Resid. Dev</th><th scope=col>Df</th><th scope=col>Deviance</th><th scope=col>Pr(&gt;Chi)</th></tr>\n",
       "\t<tr><th></th><th scope=col>&lt;dbl&gt;</th><th scope=col>&lt;dbl&gt;</th><th scope=col>&lt;dbl&gt;</th><th scope=col>&lt;dbl&gt;</th><th scope=col>&lt;dbl&gt;</th></tr>\n",
       "</thead>\n",
       "<tbody>\n",
       "\t<tr><th scope=row>1</th><td>6998</td><td>9521.058</td><td>NA</td><td>      NA</td><td>NA</td></tr>\n",
       "\t<tr><th scope=row>2</th><td>6989</td><td>6065.625</td><td> 9</td><td>3455.433</td><td> 0</td></tr>\n",
       "</tbody>\n",
       "</table>\n"
      ],
      "text/latex": [
       "A anova: 2 × 5\n",
       "\\begin{tabular}{r|lllll}\n",
       "  & Resid. Df & Resid. Dev & Df & Deviance & Pr(>Chi)\\\\\n",
       "  & <dbl> & <dbl> & <dbl> & <dbl> & <dbl>\\\\\n",
       "\\hline\n",
       "\t1 & 6998 & 9521.058 & NA &       NA & NA\\\\\n",
       "\t2 & 6989 & 6065.625 &  9 & 3455.433 &  0\\\\\n",
       "\\end{tabular}\n"
      ],
      "text/markdown": [
       "\n",
       "A anova: 2 × 5\n",
       "\n",
       "| <!--/--> | Resid. Df &lt;dbl&gt; | Resid. Dev &lt;dbl&gt; | Df &lt;dbl&gt; | Deviance &lt;dbl&gt; | Pr(&gt;Chi) &lt;dbl&gt; |\n",
       "|---|---|---|---|---|---|\n",
       "| 1 | 6998 | 9521.058 | NA |       NA | NA |\n",
       "| 2 | 6989 | 6065.625 |  9 | 3455.433 |  0 |\n",
       "\n"
      ],
      "text/plain": [
       "  Resid. Df Resid. Dev Df Deviance Pr(>Chi)\n",
       "1 6998      9521.058   NA       NA NA      \n",
       "2 6989      6065.625    9 3455.433  0      "
      ]
     },
     "metadata": {},
     "output_type": "display_data"
    }
   ],
   "source": [
    "# Main developer: Jeff\n",
    "\n",
    "#VIF and ANOVA\n",
    "vif(final_model)\n",
    "anova(null_model,final_model, test = \"Chisq\")"
   ]
  },
  {
   "cell_type": "markdown",
   "id": "ed083ffb-ecfd-4ff5-9ded-25c85e81688e",
   "metadata": {},
   "source": [
    "The VIF value for all predictors is roughly between 1 to 2 and leans towards 1. This means that multicollinearity is not a concern, and the model's coefficient estimates are stable and reliable\n",
    "\n",
    "When comparing the null model to the final model, we see our residual drop from 9521.058 to 6065.625, which is a huge improvement. This indicates that the full model fits the data significantly better than the null model, and the 9 added predictors jointly explain a large portion of the variability in placement outcomes. "
   ]
  },
  {
   "cell_type": "markdown",
   "id": "fe340ed2-f162-4b9b-9ad8-2d91d144417e",
   "metadata": {},
   "source": [
    "# III. Discussion:"
   ]
  },
  {
   "cell_type": "markdown",
   "id": "8978f749-8d5e-45c6-b815-4b5d6d46d492",
   "metadata": {},
   "source": [
    "The goal of this study was to determine whether academic achievements, skill-enhancement activities, and personal attributes can predict a student’s job placement success. Using logistic regression on the training dataset, we developed a model that identified several key predictors significantly associated with placement outcomes. These included Aptitude Test Score, CGPA, number of Projects, Soft Skills Rating, SSC and HSC marks, participation in Extracurricular Activities, Placement Training, and the number of Workshops/Certifications attended.\n",
    "\n",
    "The nine variables contributed signficantly to the likelihood of being placed. For instance, on the final model, we see that students who participated in placement training were 2.4 times more likely to be placed than those who did not, while those involved in extracurricular activities were twice as likely to be placed. Increases in academic performance indicators like CGPA, SSC, and HSC marks also contributed positively, although to varying degrees. Importantly, soft skills and project involvement, often underemphasized, showed strong positive associations with placement success.\n",
    "\n",
    "The final model performed well, as it approximately had a 76% accuracy ($\\frac{1426 + 977}{1426 + 283 + 315 + 977}$) on the test set. The analysis of the confusion matrix showed a good balance between precision and recall for predicting whether a student would be placed. In addition, the ANOVA test comparing the final model to the null model confirmed a significant improvement, suggesting that the selected predictors offer meaningful insights into placement outcomes.\n",
    "\n",
    "The results were aligned with expectations, as it showcased that both academic and non-academic factors as influential. However, the strong effect of soft skills, extracurriculars, and training solifies the importance of well-roundedness for students. To further improve the model, exploring interaction effects or incorporating additional variables such as resume quality or interview scores. These findings have practical implications for career services and students alike, emphasizing that success in job placement depends on more than just good grades."
   ]
  },
  {
   "cell_type": "code",
   "execution_count": null,
   "id": "ae990e16-2bc3-482e-bc70-3a100fd733ec",
   "metadata": {},
   "outputs": [],
   "source": []
  }
 ],
 "metadata": {
  "kernelspec": {
   "display_name": "Python 3",
   "language": "python",
   "name": "python3"
  },
  "language_info": {
   "codemirror_mode": {
    "name": "ipython",
    "version": 3
   },
   "file_extension": ".py",
   "mimetype": "text/x-python",
   "name": "python",
   "nbconvert_exporter": "python",
   "pygments_lexer": "ipython3",
   "version": "3.12.3"
  }
 },
 "nbformat": 4,
 "nbformat_minor": 5
}
