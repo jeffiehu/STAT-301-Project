{
 "cells": [
  {
   "cell_type": "markdown",
   "id": "7740db6b-c00d-49e5-8460-fa1a8a52337c",
   "metadata": {},
   "source": [
    "# Group 31: Placement Prediction"
   ]
  },
  {
   "cell_type": "markdown",
   "id": "8501ab17-bca3-4ab3-8a5b-23070c681852",
   "metadata": {},
   "source": [
    "# 1. Introduction:"
   ]
  },
  {
   "cell_type": "code",
   "execution_count": null,
   "id": "db12331a-e86f-47f6-9cc6-3ae3ff696a67",
   "metadata": {},
   "outputs": [],
   "source": []
  }
 ],
 "metadata": {
  "kernelspec": {
   "display_name": "R",
   "language": "R",
   "name": "ir"
  },
  "language_info": {
   "codemirror_mode": "r",
   "file_extension": ".r",
   "mimetype": "text/x-r-source",
   "name": "R",
   "pygments_lexer": "r",
   "version": "4.3.3"
  }
 },
 "nbformat": 4,
 "nbformat_minor": 5
}
