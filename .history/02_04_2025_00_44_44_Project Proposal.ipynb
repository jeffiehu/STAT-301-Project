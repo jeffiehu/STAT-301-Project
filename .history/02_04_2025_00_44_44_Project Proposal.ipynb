{
 "cells": [
  {
   "cell_type": "markdown",
   "id": "d6848235-b43e-4a4c-9f82-92bf25a3b294",
   "metadata": {},
   "source": [
    "# Project Proposal\n"
   ]
  },
  {
   "cell_type": "code",
   "execution_count": 18,
   "id": "dd934c9d-b212-4ad3-bb42-858e9e8e95a4",
   "metadata": {},
   "outputs": [
    {
     "name": "stderr",
     "output_type": "stream",
     "text": [
      "Loading required package: lattice\n",
      "\n",
      "\n",
      "Attaching package: ‘caret’\n",
      "\n",
      "\n",
      "The following object is masked from ‘package:purrr’:\n",
      "\n",
      "    lift\n",
      "\n",
      "\n"
     ]
    }
   ],
   "source": [
    "library(tidyverse)\n",
    "library(repr)\n",
    "library(infer)\n",
    "library(dplyr)\n",
    "library(cowplot)\n",
    "library(broom)\n",
    "library(rsample)\n",
    "library(MASS)      \n",
    "library(car)    \n",
    "library(caret)"
   ]
  },
  {
   "cell_type": "code",
   "execution_count": 2,
   "id": "92cf0caf-58e2-41b8-8d8d-77629644ab4f",
   "metadata": {},
   "outputs": [],
   "source": [
    "\n",
    "\n",
    "url <- \"https://raw.githubusercontent.com/Arcyill/STAT-301-Project/refs/heads/main/placementdata.csv\"\n",
    "\n",
    "placementData <- read.csv(url)\n"
   ]
  },
  {
   "cell_type": "markdown",
   "id": "ea19a824-1fde-4792-b32b-aaeb7f105083",
   "metadata": {},
   "source": [
    "## Data Description"
   ]
  },
  {
   "cell_type": "code",
   "execution_count": 3,
   "id": "c4f03ddf-9445-4578-b4e8-c5e52b8d4907",
   "metadata": {},
   "outputs": [
    {
     "data": {
      "text/html": [
       "<table class=\"dataframe\">\n",
       "<caption>A data.frame: 6 × 12</caption>\n",
       "<thead>\n",
       "\t<tr><th></th><th scope=col>StudentID</th><th scope=col>CGPA</th><th scope=col>Internships</th><th scope=col>Projects</th><th scope=col>Workshops.Certifications</th><th scope=col>AptitudeTestScore</th><th scope=col>SoftSkillsRating</th><th scope=col>ExtracurricularActivities</th><th scope=col>PlacementTraining</th><th scope=col>SSC_Marks</th><th scope=col>HSC_Marks</th><th scope=col>PlacementStatus</th></tr>\n",
       "\t<tr><th></th><th scope=col>&lt;int&gt;</th><th scope=col>&lt;dbl&gt;</th><th scope=col>&lt;int&gt;</th><th scope=col>&lt;int&gt;</th><th scope=col>&lt;int&gt;</th><th scope=col>&lt;int&gt;</th><th scope=col>&lt;dbl&gt;</th><th scope=col>&lt;chr&gt;</th><th scope=col>&lt;chr&gt;</th><th scope=col>&lt;int&gt;</th><th scope=col>&lt;int&gt;</th><th scope=col>&lt;chr&gt;</th></tr>\n",
       "</thead>\n",
       "<tbody>\n",
       "\t<tr><th scope=row>1</th><td>1</td><td>7.5</td><td>1</td><td>1</td><td>1</td><td>65</td><td>4.4</td><td>No </td><td>No </td><td>61</td><td>79</td><td>NotPlaced</td></tr>\n",
       "\t<tr><th scope=row>2</th><td>2</td><td>8.9</td><td>0</td><td>3</td><td>2</td><td>90</td><td>4.0</td><td>Yes</td><td>Yes</td><td>78</td><td>82</td><td>Placed   </td></tr>\n",
       "\t<tr><th scope=row>3</th><td>3</td><td>7.3</td><td>1</td><td>2</td><td>2</td><td>82</td><td>4.8</td><td>Yes</td><td>No </td><td>79</td><td>80</td><td>NotPlaced</td></tr>\n",
       "\t<tr><th scope=row>4</th><td>4</td><td>7.5</td><td>1</td><td>1</td><td>2</td><td>85</td><td>4.4</td><td>Yes</td><td>Yes</td><td>81</td><td>80</td><td>Placed   </td></tr>\n",
       "\t<tr><th scope=row>5</th><td>5</td><td>8.3</td><td>1</td><td>2</td><td>2</td><td>86</td><td>4.5</td><td>Yes</td><td>Yes</td><td>74</td><td>88</td><td>Placed   </td></tr>\n",
       "\t<tr><th scope=row>6</th><td>6</td><td>7.0</td><td>0</td><td>2</td><td>2</td><td>71</td><td>4.2</td><td>Yes</td><td>No </td><td>55</td><td>66</td><td>NotPlaced</td></tr>\n",
       "</tbody>\n",
       "</table>\n"
      ],
      "text/latex": [
       "A data.frame: 6 × 12\n",
       "\\begin{tabular}{r|llllllllllll}\n",
       "  & StudentID & CGPA & Internships & Projects & Workshops.Certifications & AptitudeTestScore & SoftSkillsRating & ExtracurricularActivities & PlacementTraining & SSC\\_Marks & HSC\\_Marks & PlacementStatus\\\\\n",
       "  & <int> & <dbl> & <int> & <int> & <int> & <int> & <dbl> & <chr> & <chr> & <int> & <int> & <chr>\\\\\n",
       "\\hline\n",
       "\t1 & 1 & 7.5 & 1 & 1 & 1 & 65 & 4.4 & No  & No  & 61 & 79 & NotPlaced\\\\\n",
       "\t2 & 2 & 8.9 & 0 & 3 & 2 & 90 & 4.0 & Yes & Yes & 78 & 82 & Placed   \\\\\n",
       "\t3 & 3 & 7.3 & 1 & 2 & 2 & 82 & 4.8 & Yes & No  & 79 & 80 & NotPlaced\\\\\n",
       "\t4 & 4 & 7.5 & 1 & 1 & 2 & 85 & 4.4 & Yes & Yes & 81 & 80 & Placed   \\\\\n",
       "\t5 & 5 & 8.3 & 1 & 2 & 2 & 86 & 4.5 & Yes & Yes & 74 & 88 & Placed   \\\\\n",
       "\t6 & 6 & 7.0 & 0 & 2 & 2 & 71 & 4.2 & Yes & No  & 55 & 66 & NotPlaced\\\\\n",
       "\\end{tabular}\n"
      ],
      "text/markdown": [
       "\n",
       "A data.frame: 6 × 12\n",
       "\n",
       "| <!--/--> | StudentID &lt;int&gt; | CGPA &lt;dbl&gt; | Internships &lt;int&gt; | Projects &lt;int&gt; | Workshops.Certifications &lt;int&gt; | AptitudeTestScore &lt;int&gt; | SoftSkillsRating &lt;dbl&gt; | ExtracurricularActivities &lt;chr&gt; | PlacementTraining &lt;chr&gt; | SSC_Marks &lt;int&gt; | HSC_Marks &lt;int&gt; | PlacementStatus &lt;chr&gt; |\n",
       "|---|---|---|---|---|---|---|---|---|---|---|---|---|\n",
       "| 1 | 1 | 7.5 | 1 | 1 | 1 | 65 | 4.4 | No  | No  | 61 | 79 | NotPlaced |\n",
       "| 2 | 2 | 8.9 | 0 | 3 | 2 | 90 | 4.0 | Yes | Yes | 78 | 82 | Placed    |\n",
       "| 3 | 3 | 7.3 | 1 | 2 | 2 | 82 | 4.8 | Yes | No  | 79 | 80 | NotPlaced |\n",
       "| 4 | 4 | 7.5 | 1 | 1 | 2 | 85 | 4.4 | Yes | Yes | 81 | 80 | Placed    |\n",
       "| 5 | 5 | 8.3 | 1 | 2 | 2 | 86 | 4.5 | Yes | Yes | 74 | 88 | Placed    |\n",
       "| 6 | 6 | 7.0 | 0 | 2 | 2 | 71 | 4.2 | Yes | No  | 55 | 66 | NotPlaced |\n",
       "\n"
      ],
      "text/plain": [
       "  StudentID CGPA Internships Projects Workshops.Certifications\n",
       "1 1         7.5  1           1        1                       \n",
       "2 2         8.9  0           3        2                       \n",
       "3 3         7.3  1           2        2                       \n",
       "4 4         7.5  1           1        2                       \n",
       "5 5         8.3  1           2        2                       \n",
       "6 6         7.0  0           2        2                       \n",
       "  AptitudeTestScore SoftSkillsRating ExtracurricularActivities\n",
       "1 65                4.4              No                       \n",
       "2 90                4.0              Yes                      \n",
       "3 82                4.8              Yes                      \n",
       "4 85                4.4              Yes                      \n",
       "5 86                4.5              Yes                      \n",
       "6 71                4.2              Yes                      \n",
       "  PlacementTraining SSC_Marks HSC_Marks PlacementStatus\n",
       "1 No                61        79        NotPlaced      \n",
       "2 Yes               78        82        Placed         \n",
       "3 No                79        80        NotPlaced      \n",
       "4 Yes               81        80        Placed         \n",
       "5 Yes               74        88        Placed         \n",
       "6 No                55        66        NotPlaced      "
      ]
     },
     "metadata": {},
     "output_type": "display_data"
    }
   ],
   "source": [
    "head(placementData)\n"
   ]
  },
  {
   "cell_type": "markdown",
   "id": "e9a965d4-009b-475c-9164-f0ee36761f40",
   "metadata": {},
   "source": [
    "### Data source (Kaggle): https://www.kaggle.com/datasets/ruchikakumbhar/placement-prediction-dataset"
   ]
  },
  {
   "cell_type": "code",
   "execution_count": 4,
   "id": "7b085629-3dff-450f-baea-59854dde61ab",
   "metadata": {},
   "outputs": [
    {
     "data": {
      "text/html": [
       "10000"
      ],
      "text/latex": [
       "10000"
      ],
      "text/markdown": [
       "10000"
      ],
      "text/plain": [
       "[1] 10000"
      ]
     },
     "metadata": {},
     "output_type": "display_data"
    }
   ],
   "source": [
    "nrow(placementData)"
   ]
  },
  {
   "cell_type": "code",
   "execution_count": 5,
   "id": "2d8b1110-55be-47bc-9277-2be8baf74a44",
   "metadata": {},
   "outputs": [
    {
     "data": {
      "text/html": [
       "12"
      ],
      "text/latex": [
       "12"
      ],
      "text/markdown": [
       "12"
      ],
      "text/plain": [
       "[1] 12"
      ]
     },
     "metadata": {},
     "output_type": "display_data"
    }
   ],
   "source": [
    "ncol(placementData)"
   ]
  },
  {
   "cell_type": "markdown",
   "id": "bab6206e-61d5-46cc-903e-ca43829b6ebc",
   "metadata": {},
   "source": [
    "This dataset contains information about the students' academic and training and placement status. There are 10000 observations and 12 variables consisting of:\n",
    "\n",
    "- StudentID - The ID of the student ranging from 1 to 10000. (int) \n",
    "\n",
    "- CGPA - It is the overall grades achieved by the student. (float)\n",
    "\n",
    "- Internships - It tells the number of internships a student has done. (Int)\n",
    "\n",
    "- Projects - Number of projects a student has done. (Int)\n",
    "\n",
    "- Workshops/Certifications - As there are multiple courses available online student opt for them to upskill themselves. (Int)\n",
    "\n",
    "- ApptitudeTestScore - Aptitude test are generally a part of the recruitment process to understand the Quant and logical thinking of the student. (Int)\n",
    "\n",
    "- SoftSkillrating - Communication is a key role that plays in the placement or in any aspect of the life. (float)\n",
    "\n",
    "- ExtraCurricularActivities - This helps provide and insight about the personality of an individual regarding how much he is active other than the academic. (bool)\n",
    "\n",
    "- PlacementTraining - It is provided to students in college to ace the placement process. (bool)\n",
    "\n",
    "- SSC - Senior Secondary Marks. (Int)\n",
    "\n",
    "- HSC - Higher Secondary Marks. (Int)\n",
    "\n",
    "- PlacementStatus - This is our target column with two classes \"Placed\" and not \"NotPlaced\". (Binary)"
   ]
  },
  {
   "cell_type": "markdown",
   "id": "0cd289ad-61e9-40cb-9511-2f1028ef2539",
   "metadata": {},
   "source": [
    "### Pre-Selection of Variables\n",
    "\n",
    "While it may be hard to determine what vairables to drop at this stage, we can drop StudentID because it just a unique identifier for each student, meaning it has no predictive power or meaningful relationship with PlacementStatus. Removing it will prevent unnecessary noise in our analysis and improve model interpretability"
   ]
  },
  {
   "cell_type": "code",
   "execution_count": 6,
   "id": "8d304434-df6e-46d6-a082-8ffc41506b26",
   "metadata": {},
   "outputs": [
    {
     "data": {
      "text/html": [
       "<table class=\"dataframe\">\n",
       "<caption>A data.frame: 6 × 11</caption>\n",
       "<thead>\n",
       "\t<tr><th></th><th scope=col>CGPA</th><th scope=col>Internships</th><th scope=col>Projects</th><th scope=col>Workshops.Certifications</th><th scope=col>AptitudeTestScore</th><th scope=col>SoftSkillsRating</th><th scope=col>ExtracurricularActivities</th><th scope=col>PlacementTraining</th><th scope=col>SSC_Marks</th><th scope=col>HSC_Marks</th><th scope=col>PlacementStatus</th></tr>\n",
       "\t<tr><th></th><th scope=col>&lt;dbl&gt;</th><th scope=col>&lt;int&gt;</th><th scope=col>&lt;int&gt;</th><th scope=col>&lt;int&gt;</th><th scope=col>&lt;int&gt;</th><th scope=col>&lt;dbl&gt;</th><th scope=col>&lt;dbl&gt;</th><th scope=col>&lt;dbl&gt;</th><th scope=col>&lt;int&gt;</th><th scope=col>&lt;int&gt;</th><th scope=col>&lt;dbl&gt;</th></tr>\n",
       "</thead>\n",
       "<tbody>\n",
       "\t<tr><th scope=row>1</th><td>7.5</td><td>1</td><td>1</td><td>1</td><td>65</td><td>4.4</td><td>0</td><td>0</td><td>61</td><td>79</td><td>0</td></tr>\n",
       "\t<tr><th scope=row>2</th><td>8.9</td><td>0</td><td>3</td><td>2</td><td>90</td><td>4.0</td><td>1</td><td>1</td><td>78</td><td>82</td><td>1</td></tr>\n",
       "\t<tr><th scope=row>3</th><td>7.3</td><td>1</td><td>2</td><td>2</td><td>82</td><td>4.8</td><td>1</td><td>0</td><td>79</td><td>80</td><td>0</td></tr>\n",
       "\t<tr><th scope=row>4</th><td>7.5</td><td>1</td><td>1</td><td>2</td><td>85</td><td>4.4</td><td>1</td><td>1</td><td>81</td><td>80</td><td>1</td></tr>\n",
       "\t<tr><th scope=row>5</th><td>8.3</td><td>1</td><td>2</td><td>2</td><td>86</td><td>4.5</td><td>1</td><td>1</td><td>74</td><td>88</td><td>1</td></tr>\n",
       "\t<tr><th scope=row>6</th><td>7.0</td><td>0</td><td>2</td><td>2</td><td>71</td><td>4.2</td><td>1</td><td>0</td><td>55</td><td>66</td><td>0</td></tr>\n",
       "</tbody>\n",
       "</table>\n"
      ],
      "text/latex": [
       "A data.frame: 6 × 11\n",
       "\\begin{tabular}{r|lllllllllll}\n",
       "  & CGPA & Internships & Projects & Workshops.Certifications & AptitudeTestScore & SoftSkillsRating & ExtracurricularActivities & PlacementTraining & SSC\\_Marks & HSC\\_Marks & PlacementStatus\\\\\n",
       "  & <dbl> & <int> & <int> & <int> & <int> & <dbl> & <dbl> & <dbl> & <int> & <int> & <dbl>\\\\\n",
       "\\hline\n",
       "\t1 & 7.5 & 1 & 1 & 1 & 65 & 4.4 & 0 & 0 & 61 & 79 & 0\\\\\n",
       "\t2 & 8.9 & 0 & 3 & 2 & 90 & 4.0 & 1 & 1 & 78 & 82 & 1\\\\\n",
       "\t3 & 7.3 & 1 & 2 & 2 & 82 & 4.8 & 1 & 0 & 79 & 80 & 0\\\\\n",
       "\t4 & 7.5 & 1 & 1 & 2 & 85 & 4.4 & 1 & 1 & 81 & 80 & 1\\\\\n",
       "\t5 & 8.3 & 1 & 2 & 2 & 86 & 4.5 & 1 & 1 & 74 & 88 & 1\\\\\n",
       "\t6 & 7.0 & 0 & 2 & 2 & 71 & 4.2 & 1 & 0 & 55 & 66 & 0\\\\\n",
       "\\end{tabular}\n"
      ],
      "text/markdown": [
       "\n",
       "A data.frame: 6 × 11\n",
       "\n",
       "| <!--/--> | CGPA &lt;dbl&gt; | Internships &lt;int&gt; | Projects &lt;int&gt; | Workshops.Certifications &lt;int&gt; | AptitudeTestScore &lt;int&gt; | SoftSkillsRating &lt;dbl&gt; | ExtracurricularActivities &lt;dbl&gt; | PlacementTraining &lt;dbl&gt; | SSC_Marks &lt;int&gt; | HSC_Marks &lt;int&gt; | PlacementStatus &lt;dbl&gt; |\n",
       "|---|---|---|---|---|---|---|---|---|---|---|---|\n",
       "| 1 | 7.5 | 1 | 1 | 1 | 65 | 4.4 | 0 | 0 | 61 | 79 | 0 |\n",
       "| 2 | 8.9 | 0 | 3 | 2 | 90 | 4.0 | 1 | 1 | 78 | 82 | 1 |\n",
       "| 3 | 7.3 | 1 | 2 | 2 | 82 | 4.8 | 1 | 0 | 79 | 80 | 0 |\n",
       "| 4 | 7.5 | 1 | 1 | 2 | 85 | 4.4 | 1 | 1 | 81 | 80 | 1 |\n",
       "| 5 | 8.3 | 1 | 2 | 2 | 86 | 4.5 | 1 | 1 | 74 | 88 | 1 |\n",
       "| 6 | 7.0 | 0 | 2 | 2 | 71 | 4.2 | 1 | 0 | 55 | 66 | 0 |\n",
       "\n"
      ],
      "text/plain": [
       "  CGPA Internships Projects Workshops.Certifications AptitudeTestScore\n",
       "1 7.5  1           1        1                        65               \n",
       "2 8.9  0           3        2                        90               \n",
       "3 7.3  1           2        2                        82               \n",
       "4 7.5  1           1        2                        85               \n",
       "5 8.3  1           2        2                        86               \n",
       "6 7.0  0           2        2                        71               \n",
       "  SoftSkillsRating ExtracurricularActivities PlacementTraining SSC_Marks\n",
       "1 4.4              0                         0                 61       \n",
       "2 4.0              1                         1                 78       \n",
       "3 4.8              1                         0                 79       \n",
       "4 4.4              1                         1                 81       \n",
       "5 4.5              1                         1                 74       \n",
       "6 4.2              1                         0                 55       \n",
       "  HSC_Marks PlacementStatus\n",
       "1 79        0              \n",
       "2 82        1              \n",
       "3 80        0              \n",
       "4 80        1              \n",
       "5 88        1              \n",
       "6 66        0              "
      ]
     },
     "metadata": {},
     "output_type": "display_data"
    }
   ],
   "source": [
    "placementData <- placementData |> dplyr::select(-StudentID) |> \n",
    "        mutate(ExtracurricularActivities = if_else(ExtracurricularActivities == \"Yes\", 1, 0),               \n",
    "        PlacementTraining = if_else(PlacementTraining == \"Yes\", 1, 0),\n",
    "              PlacementStatus = if_else(PlacementStatus == \"Placed\", 1, 0))\n",
    "\n",
    "head(placementData)"
   ]
  },
  {
   "cell_type": "markdown",
   "id": "a87f96a8-c0d7-4e43-9fcd-2d68ff408c47",
   "metadata": {},
   "source": [
    "We will also remove all rows with NA values"
   ]
  },
  {
   "cell_type": "code",
   "execution_count": 7,
   "id": "6768d663-4a1a-4d31-9d57-b35e9ff9c092",
   "metadata": {},
   "outputs": [
    {
     "data": {
      "text/html": [
       "<table class=\"dataframe\">\n",
       "<caption>A data.frame: 6 × 11</caption>\n",
       "<thead>\n",
       "\t<tr><th></th><th scope=col>CGPA</th><th scope=col>Internships</th><th scope=col>Projects</th><th scope=col>Workshops.Certifications</th><th scope=col>AptitudeTestScore</th><th scope=col>SoftSkillsRating</th><th scope=col>ExtracurricularActivities</th><th scope=col>PlacementTraining</th><th scope=col>SSC_Marks</th><th scope=col>HSC_Marks</th><th scope=col>PlacementStatus</th></tr>\n",
       "\t<tr><th></th><th scope=col>&lt;dbl&gt;</th><th scope=col>&lt;int&gt;</th><th scope=col>&lt;int&gt;</th><th scope=col>&lt;int&gt;</th><th scope=col>&lt;int&gt;</th><th scope=col>&lt;dbl&gt;</th><th scope=col>&lt;dbl&gt;</th><th scope=col>&lt;dbl&gt;</th><th scope=col>&lt;int&gt;</th><th scope=col>&lt;int&gt;</th><th scope=col>&lt;dbl&gt;</th></tr>\n",
       "</thead>\n",
       "<tbody>\n",
       "\t<tr><th scope=row>1</th><td>7.5</td><td>1</td><td>1</td><td>1</td><td>65</td><td>4.4</td><td>0</td><td>0</td><td>61</td><td>79</td><td>0</td></tr>\n",
       "\t<tr><th scope=row>2</th><td>8.9</td><td>0</td><td>3</td><td>2</td><td>90</td><td>4.0</td><td>1</td><td>1</td><td>78</td><td>82</td><td>1</td></tr>\n",
       "\t<tr><th scope=row>3</th><td>7.3</td><td>1</td><td>2</td><td>2</td><td>82</td><td>4.8</td><td>1</td><td>0</td><td>79</td><td>80</td><td>0</td></tr>\n",
       "\t<tr><th scope=row>4</th><td>7.5</td><td>1</td><td>1</td><td>2</td><td>85</td><td>4.4</td><td>1</td><td>1</td><td>81</td><td>80</td><td>1</td></tr>\n",
       "\t<tr><th scope=row>5</th><td>8.3</td><td>1</td><td>2</td><td>2</td><td>86</td><td>4.5</td><td>1</td><td>1</td><td>74</td><td>88</td><td>1</td></tr>\n",
       "\t<tr><th scope=row>6</th><td>7.0</td><td>0</td><td>2</td><td>2</td><td>71</td><td>4.2</td><td>1</td><td>0</td><td>55</td><td>66</td><td>0</td></tr>\n",
       "</tbody>\n",
       "</table>\n"
      ],
      "text/latex": [
       "A data.frame: 6 × 11\n",
       "\\begin{tabular}{r|lllllllllll}\n",
       "  & CGPA & Internships & Projects & Workshops.Certifications & AptitudeTestScore & SoftSkillsRating & ExtracurricularActivities & PlacementTraining & SSC\\_Marks & HSC\\_Marks & PlacementStatus\\\\\n",
       "  & <dbl> & <int> & <int> & <int> & <int> & <dbl> & <dbl> & <dbl> & <int> & <int> & <dbl>\\\\\n",
       "\\hline\n",
       "\t1 & 7.5 & 1 & 1 & 1 & 65 & 4.4 & 0 & 0 & 61 & 79 & 0\\\\\n",
       "\t2 & 8.9 & 0 & 3 & 2 & 90 & 4.0 & 1 & 1 & 78 & 82 & 1\\\\\n",
       "\t3 & 7.3 & 1 & 2 & 2 & 82 & 4.8 & 1 & 0 & 79 & 80 & 0\\\\\n",
       "\t4 & 7.5 & 1 & 1 & 2 & 85 & 4.4 & 1 & 1 & 81 & 80 & 1\\\\\n",
       "\t5 & 8.3 & 1 & 2 & 2 & 86 & 4.5 & 1 & 1 & 74 & 88 & 1\\\\\n",
       "\t6 & 7.0 & 0 & 2 & 2 & 71 & 4.2 & 1 & 0 & 55 & 66 & 0\\\\\n",
       "\\end{tabular}\n"
      ],
      "text/markdown": [
       "\n",
       "A data.frame: 6 × 11\n",
       "\n",
       "| <!--/--> | CGPA &lt;dbl&gt; | Internships &lt;int&gt; | Projects &lt;int&gt; | Workshops.Certifications &lt;int&gt; | AptitudeTestScore &lt;int&gt; | SoftSkillsRating &lt;dbl&gt; | ExtracurricularActivities &lt;dbl&gt; | PlacementTraining &lt;dbl&gt; | SSC_Marks &lt;int&gt; | HSC_Marks &lt;int&gt; | PlacementStatus &lt;dbl&gt; |\n",
       "|---|---|---|---|---|---|---|---|---|---|---|---|\n",
       "| 1 | 7.5 | 1 | 1 | 1 | 65 | 4.4 | 0 | 0 | 61 | 79 | 0 |\n",
       "| 2 | 8.9 | 0 | 3 | 2 | 90 | 4.0 | 1 | 1 | 78 | 82 | 1 |\n",
       "| 3 | 7.3 | 1 | 2 | 2 | 82 | 4.8 | 1 | 0 | 79 | 80 | 0 |\n",
       "| 4 | 7.5 | 1 | 1 | 2 | 85 | 4.4 | 1 | 1 | 81 | 80 | 1 |\n",
       "| 5 | 8.3 | 1 | 2 | 2 | 86 | 4.5 | 1 | 1 | 74 | 88 | 1 |\n",
       "| 6 | 7.0 | 0 | 2 | 2 | 71 | 4.2 | 1 | 0 | 55 | 66 | 0 |\n",
       "\n"
      ],
      "text/plain": [
       "  CGPA Internships Projects Workshops.Certifications AptitudeTestScore\n",
       "1 7.5  1           1        1                        65               \n",
       "2 8.9  0           3        2                        90               \n",
       "3 7.3  1           2        2                        82               \n",
       "4 7.5  1           1        2                        85               \n",
       "5 8.3  1           2        2                        86               \n",
       "6 7.0  0           2        2                        71               \n",
       "  SoftSkillsRating ExtracurricularActivities PlacementTraining SSC_Marks\n",
       "1 4.4              0                         0                 61       \n",
       "2 4.0              1                         1                 78       \n",
       "3 4.8              1                         0                 79       \n",
       "4 4.4              1                         1                 81       \n",
       "5 4.5              1                         1                 74       \n",
       "6 4.2              1                         0                 55       \n",
       "  HSC_Marks PlacementStatus\n",
       "1 79        0              \n",
       "2 82        1              \n",
       "3 80        0              \n",
       "4 80        1              \n",
       "5 88        1              \n",
       "6 66        0              "
      ]
     },
     "metadata": {},
     "output_type": "display_data"
    }
   ],
   "source": [
    "placementData <- placementData |> drop_na()\n",
    "head(placementData)"
   ]
  },
  {
   "cell_type": "markdown",
   "id": "b9f9f57b-0646-49b5-a316-60f0666ab7ba",
   "metadata": {},
   "source": [
    "## Question"
   ]
  },
  {
   "cell_type": "markdown",
   "id": "af774717-0746-47cb-8932-0fabeee073fc",
   "metadata": {},
   "source": [
    "a. We want to examine the association between a student's likelihood of securing a job placement (PlacementStatus, the response) using various other factors as predictors, including academic achievements (CGPA, SSC_Marks, HSC_Marks), skill enhancement activities (Internships, Projects, Workshops/Certifications), and personal attributes (AptitudeTestScore, SoftSkillsRating, ExtracurricularActivities)."
   ]
  },
  {
   "cell_type": "markdown",
   "id": "eed0d7b3-607e-4b5e-b78d-8fa6f60dd8b8",
   "metadata": {},
   "source": [
    "b. The primary focus of this question is to make inferences from how academic achievements, skillenhancement activities, and personal attributes relate to a student’s likelihood of securing a job placement. By using logistic regression, we can interpret the significance and impact of different factors on placement outcomes. As students most likely looking for jobs, instead of focusing on making the most predictions, we are more interested in understanding which variables have meaningful associations with job placement and how they influence the probability of getting placed."
   ]
  },
  {
   "cell_type": "markdown",
   "id": "28a5c88d-18d9-41a5-af42-be64d11eedbd",
   "metadata": {},
   "source": [
    "## Exploratory Data Analysis"
   ]
  },
  {
   "cell_type": "markdown",
   "id": "82a31398-1737-4bf9-be72-bf36e8981391",
   "metadata": {},
   "source": [
    "The stacked histograms illustrate the distribution of students' CGPA, differentiated by Placement Status (using colour) and separated by the number of internships. From the plot, students with higher CGPA tend to secure placements more frequently, especially noticeable among students who, despite having no internships, have more placements than not placed. The plot also reveals that students with two internships show a higher likelihood of placement, even at somewhat lower CGPAs. Conversely, there's little visible distinction between students with zero or one internship in terms of CGPA distribution or placement outcomes. \n",
    "\n",
    "\n",
    "There is also a noticeable trend in CGPA distribution based on internship experience. This could be because students who actively pursue internships tend to maintain higher CGPAs overall or vice versa, as evident in the fact that students with 2 internships exhibit a distribution that's left-skewed (higher CGPAs), whereas students with 0 internships exhibit a right-skewed distribution (moderate to lower CGPAs).\n",
    "\n",
    "\n",
    "This visualization is relevant because it helps us explore the relationship between academic performance, practical experience, and placement success. The plot highlights that CGPA is a key factor in placement but also shows that internships may influence placement likelihood independently of GPA. By faceting the histogram by internship experience, we can observe how CGPA distributions shift based on the number of internships, revealing that students with more internships tend to have both higher CGPAs and higher placement rates. This is crucial for the inference question stated earlier, as it suggests that both academic achievement and internship experience may be important in securing a job placement. \n",
    "\n",
    "This is important because it means that excluding either one of these variables could lead to omitted variable bias. For example, if we were to exclude internships from our analysis, our model might overestimate the impact of CGPA on placement success, failing to account for the fact that internships provide an alternative pathway to placement, even for students with moderate CGPAs. On the other hand, omitting CGPA could lead to overstating the effect of internships, ignoring the clear trend that students with higher GPAs are generally more likely to be placed, regardless of internship experience. Therefore, our model should include both CGPA and internships at the very least. \n",
    "\n"
   ]
  },
  {
   "cell_type": "markdown",
   "id": "d9de4f9f-4113-4d9f-bcfb-1589e91efcaf",
   "metadata": {},
   "source": [
    "# Methods and Plan"
   ]
  },
  {
   "cell_type": "markdown",
   "id": "0135c830-13a5-42e4-be3d-2cd1b05fb24d",
   "metadata": {},
   "source": [
    "The model used to address the research question will be logistic regression. This method will model the binary outcome of placement status (placed or not placed based on all other variables as predictors (for the time being). \n",
    "\n",
    "Logistic regression is appropriate because placement status is binary. Logistic regression models the probability of placement and allows for the interpretation of how each predictor influences this probability through odd ratios. \n",
    "\n",
    "There are several assumptions:\n",
    "- Observations of placement outcomes for each student must be independent of each other\n",
    "- Predictors must have a linear relationship with the log odds of the placement outcome.\n",
    "- Predictor variables are not highly correlated with one another.\n",
    "- There are no significant outliers that may disproportionately impact the parameter estimates\n",
    "\n",
    "Potential Limitations or Weakness:\n",
    "- One significant limitation is the risk of multicollinearity. Since no variable selection was implemented for this stage of the project, if predictors were highly correlated, it could reduce the accuracy and interpretability of the model's coefficients. This could be mitigated by employing a method like LASSO for variable selection. (this will be implemented for the final project)\n",
    "- Another limitation is that the assumption of linearity between predictors and log odds might not hold, requiring transformations or additional modelling techniques.\n",
    "- If significant outliers exist, it can significantly affect the parameter estimates.\n"
   ]
  },
  {
   "cell_type": "markdown",
   "id": "5e087aad-b9b1-4254-bdb4-33c569f91bdc",
   "metadata": {},
   "source": [
    "# Computational Code and Output"
   ]
  },
  {
   "cell_type": "markdown",
   "id": "13cd2de9-b6c2-469a-b7fe-7b16efe5347e",
   "metadata": {},
   "source": [
    "The function in R to fit a logistic regression requires either a numerical response (0 and 1) or a `factor`, with two levels (note that R stores factors as integers). \n",
    "\n",
    "Mathematically, we have to construct a binary response $Y_i$ that flags the successes for a given event of interest: \n",
    "\n",
    "$$\n",
    "Y_i =\n",
    "\\begin{cases}\n",
    "1 \\; \\; \\; \\; \\mbox{if the $i$th observation is Placed},\\\\\n",
    "0 \\; \\; \\; \\; \t\\mbox{if the $i$th observation is NotPlaced}\n",
    "\\end{cases}\n",
    "$$\n",
    "\n",
    "Therefore, we will change PlacementStatus with values consisting of 1s and 0s. "
   ]
  },
  {
   "cell_type": "code",
   "execution_count": 8,
   "id": "702f96cf-340e-463c-b62f-20d02cecfdb6",
   "metadata": {
    "scrolled": true
   },
   "outputs": [
    {
     "data": {
      "text/html": [
       "<table class=\"dataframe\">\n",
       "<caption>A data.frame: 6 × 11</caption>\n",
       "<thead>\n",
       "\t<tr><th></th><th scope=col>CGPA</th><th scope=col>Internships</th><th scope=col>Projects</th><th scope=col>Workshops.Certifications</th><th scope=col>AptitudeTestScore</th><th scope=col>SoftSkillsRating</th><th scope=col>ExtracurricularActivities</th><th scope=col>PlacementTraining</th><th scope=col>SSC_Marks</th><th scope=col>HSC_Marks</th><th scope=col>PlacementStatus</th></tr>\n",
       "\t<tr><th></th><th scope=col>&lt;dbl&gt;</th><th scope=col>&lt;int&gt;</th><th scope=col>&lt;int&gt;</th><th scope=col>&lt;int&gt;</th><th scope=col>&lt;int&gt;</th><th scope=col>&lt;dbl&gt;</th><th scope=col>&lt;dbl&gt;</th><th scope=col>&lt;dbl&gt;</th><th scope=col>&lt;int&gt;</th><th scope=col>&lt;int&gt;</th><th scope=col>&lt;dbl&gt;</th></tr>\n",
       "</thead>\n",
       "<tbody>\n",
       "\t<tr><th scope=row>1</th><td>7.5</td><td>1</td><td>1</td><td>1</td><td>65</td><td>4.4</td><td>0</td><td>0</td><td>61</td><td>79</td><td>0</td></tr>\n",
       "\t<tr><th scope=row>2</th><td>8.9</td><td>0</td><td>3</td><td>2</td><td>90</td><td>4.0</td><td>1</td><td>1</td><td>78</td><td>82</td><td>0</td></tr>\n",
       "\t<tr><th scope=row>3</th><td>7.3</td><td>1</td><td>2</td><td>2</td><td>82</td><td>4.8</td><td>1</td><td>0</td><td>79</td><td>80</td><td>0</td></tr>\n",
       "\t<tr><th scope=row>4</th><td>7.5</td><td>1</td><td>1</td><td>2</td><td>85</td><td>4.4</td><td>1</td><td>1</td><td>81</td><td>80</td><td>0</td></tr>\n",
       "\t<tr><th scope=row>5</th><td>8.3</td><td>1</td><td>2</td><td>2</td><td>86</td><td>4.5</td><td>1</td><td>1</td><td>74</td><td>88</td><td>0</td></tr>\n",
       "\t<tr><th scope=row>6</th><td>7.0</td><td>0</td><td>2</td><td>2</td><td>71</td><td>4.2</td><td>1</td><td>0</td><td>55</td><td>66</td><td>0</td></tr>\n",
       "</tbody>\n",
       "</table>\n"
      ],
      "text/latex": [
       "A data.frame: 6 × 11\n",
       "\\begin{tabular}{r|lllllllllll}\n",
       "  & CGPA & Internships & Projects & Workshops.Certifications & AptitudeTestScore & SoftSkillsRating & ExtracurricularActivities & PlacementTraining & SSC\\_Marks & HSC\\_Marks & PlacementStatus\\\\\n",
       "  & <dbl> & <int> & <int> & <int> & <int> & <dbl> & <dbl> & <dbl> & <int> & <int> & <dbl>\\\\\n",
       "\\hline\n",
       "\t1 & 7.5 & 1 & 1 & 1 & 65 & 4.4 & 0 & 0 & 61 & 79 & 0\\\\\n",
       "\t2 & 8.9 & 0 & 3 & 2 & 90 & 4.0 & 1 & 1 & 78 & 82 & 0\\\\\n",
       "\t3 & 7.3 & 1 & 2 & 2 & 82 & 4.8 & 1 & 0 & 79 & 80 & 0\\\\\n",
       "\t4 & 7.5 & 1 & 1 & 2 & 85 & 4.4 & 1 & 1 & 81 & 80 & 0\\\\\n",
       "\t5 & 8.3 & 1 & 2 & 2 & 86 & 4.5 & 1 & 1 & 74 & 88 & 0\\\\\n",
       "\t6 & 7.0 & 0 & 2 & 2 & 71 & 4.2 & 1 & 0 & 55 & 66 & 0\\\\\n",
       "\\end{tabular}\n"
      ],
      "text/markdown": [
       "\n",
       "A data.frame: 6 × 11\n",
       "\n",
       "| <!--/--> | CGPA &lt;dbl&gt; | Internships &lt;int&gt; | Projects &lt;int&gt; | Workshops.Certifications &lt;int&gt; | AptitudeTestScore &lt;int&gt; | SoftSkillsRating &lt;dbl&gt; | ExtracurricularActivities &lt;dbl&gt; | PlacementTraining &lt;dbl&gt; | SSC_Marks &lt;int&gt; | HSC_Marks &lt;int&gt; | PlacementStatus &lt;dbl&gt; |\n",
       "|---|---|---|---|---|---|---|---|---|---|---|---|\n",
       "| 1 | 7.5 | 1 | 1 | 1 | 65 | 4.4 | 0 | 0 | 61 | 79 | 0 |\n",
       "| 2 | 8.9 | 0 | 3 | 2 | 90 | 4.0 | 1 | 1 | 78 | 82 | 0 |\n",
       "| 3 | 7.3 | 1 | 2 | 2 | 82 | 4.8 | 1 | 0 | 79 | 80 | 0 |\n",
       "| 4 | 7.5 | 1 | 1 | 2 | 85 | 4.4 | 1 | 1 | 81 | 80 | 0 |\n",
       "| 5 | 8.3 | 1 | 2 | 2 | 86 | 4.5 | 1 | 1 | 74 | 88 | 0 |\n",
       "| 6 | 7.0 | 0 | 2 | 2 | 71 | 4.2 | 1 | 0 | 55 | 66 | 0 |\n",
       "\n"
      ],
      "text/plain": [
       "  CGPA Internships Projects Workshops.Certifications AptitudeTestScore\n",
       "1 7.5  1           1        1                        65               \n",
       "2 8.9  0           3        2                        90               \n",
       "3 7.3  1           2        2                        82               \n",
       "4 7.5  1           1        2                        85               \n",
       "5 8.3  1           2        2                        86               \n",
       "6 7.0  0           2        2                        71               \n",
       "  SoftSkillsRating ExtracurricularActivities PlacementTraining SSC_Marks\n",
       "1 4.4              0                         0                 61       \n",
       "2 4.0              1                         1                 78       \n",
       "3 4.8              1                         0                 79       \n",
       "4 4.4              1                         1                 81       \n",
       "5 4.5              1                         1                 74       \n",
       "6 4.2              1                         0                 55       \n",
       "  HSC_Marks PlacementStatus\n",
       "1 79        0              \n",
       "2 82        0              \n",
       "3 80        0              \n",
       "4 80        0              \n",
       "5 88        0              \n",
       "6 66        0              "
      ]
     },
     "metadata": {},
     "output_type": "display_data"
    }
   ],
   "source": [
    "\n",
    "placementDataB <- placementData %>%\n",
    "  mutate(PlacementStatus = if_else(PlacementStatus == \"Placed\", 1, 0))\n",
    "head(placementDataB)\n"
   ]
  },
  {
   "cell_type": "markdown",
   "id": "c23feeda-2574-4219-ae0d-6e9c41a0e5dd",
   "metadata": {},
   "source": [
    "We'll estimate a binary logistic regression utilizing the function glm() with PlacementStatus as the response and all others as the predictors. "
   ]
  },
  {
   "cell_type": "code",
   "execution_count": 9,
   "id": "18cc2738-bc8a-4fb9-b4a9-57a86d27cf24",
   "metadata": {},
   "outputs": [
    {
     "name": "stderr",
     "output_type": "stream",
     "text": [
      "Warning message:\n",
      "“glm.fit: algorithm did not converge”\n"
     ]
    },
    {
     "data": {
      "text/html": [
       "<table class=\"dataframe\">\n",
       "<caption>A tibble: 11 × 5</caption>\n",
       "<thead>\n",
       "\t<tr><th scope=col>term</th><th scope=col>estimate</th><th scope=col>std.error</th><th scope=col>statistic</th><th scope=col>p.value</th></tr>\n",
       "\t<tr><th scope=col>&lt;chr&gt;</th><th scope=col>&lt;dbl&gt;</th><th scope=col>&lt;dbl&gt;</th><th scope=col>&lt;dbl&gt;</th><th scope=col>&lt;dbl&gt;</th></tr>\n",
       "</thead>\n",
       "<tbody>\n",
       "\t<tr><td>(Intercept)              </td><td>2.900701e-12</td><td>64264.8279</td><td>-4.133843e-04</td><td>0.9996702</td></tr>\n",
       "\t<tr><td>CGPA                     </td><td>1.000000e+00</td><td> 6819.3103</td><td> 5.197885e-19</td><td>1.0000000</td></tr>\n",
       "\t<tr><td>Internships              </td><td>1.000000e+00</td><td> 5856.6441</td><td> 3.625411e-20</td><td>1.0000000</td></tr>\n",
       "\t<tr><td>Projects                 </td><td>1.000000e+00</td><td> 5492.9320</td><td>-1.701743e-18</td><td>1.0000000</td></tr>\n",
       "\t<tr><td>Workshops.Certifications </td><td>1.000000e+00</td><td> 4586.6215</td><td> 9.012058e-19</td><td>1.0000000</td></tr>\n",
       "\t<tr><td>AptitudeTestScore        </td><td>1.000000e+00</td><td>  610.1559</td><td>-3.644028e-18</td><td>1.0000000</td></tr>\n",
       "\t<tr><td>SoftSkillsRating         </td><td>1.000000e+00</td><td>10837.7657</td><td> 2.006642e-18</td><td>1.0000000</td></tr>\n",
       "\t<tr><td>ExtracurricularActivities</td><td>1.000000e+00</td><td> 9623.8664</td><td>-1.971802e-18</td><td>1.0000000</td></tr>\n",
       "\t<tr><td>PlacementTraining        </td><td>1.000000e+00</td><td> 8760.4169</td><td>-1.787773e-18</td><td>1.0000000</td></tr>\n",
       "\t<tr><td>SSC_Marks                </td><td>1.000000e+00</td><td>  449.5356</td><td>-3.917563e-19</td><td>1.0000000</td></tr>\n",
       "\t<tr><td>HSC_Marks                </td><td>1.000000e+00</td><td>  561.9718</td><td> 3.574711e-18</td><td>1.0000000</td></tr>\n",
       "</tbody>\n",
       "</table>\n"
      ],
      "text/latex": [
       "A tibble: 11 × 5\n",
       "\\begin{tabular}{lllll}\n",
       " term & estimate & std.error & statistic & p.value\\\\\n",
       " <chr> & <dbl> & <dbl> & <dbl> & <dbl>\\\\\n",
       "\\hline\n",
       "\t (Intercept)               & 2.900701e-12 & 64264.8279 & -4.133843e-04 & 0.9996702\\\\\n",
       "\t CGPA                      & 1.000000e+00 &  6819.3103 &  5.197885e-19 & 1.0000000\\\\\n",
       "\t Internships               & 1.000000e+00 &  5856.6441 &  3.625411e-20 & 1.0000000\\\\\n",
       "\t Projects                  & 1.000000e+00 &  5492.9320 & -1.701743e-18 & 1.0000000\\\\\n",
       "\t Workshops.Certifications  & 1.000000e+00 &  4586.6215 &  9.012058e-19 & 1.0000000\\\\\n",
       "\t AptitudeTestScore         & 1.000000e+00 &   610.1559 & -3.644028e-18 & 1.0000000\\\\\n",
       "\t SoftSkillsRating          & 1.000000e+00 & 10837.7657 &  2.006642e-18 & 1.0000000\\\\\n",
       "\t ExtracurricularActivities & 1.000000e+00 &  9623.8664 & -1.971802e-18 & 1.0000000\\\\\n",
       "\t PlacementTraining         & 1.000000e+00 &  8760.4169 & -1.787773e-18 & 1.0000000\\\\\n",
       "\t SSC\\_Marks                 & 1.000000e+00 &   449.5356 & -3.917563e-19 & 1.0000000\\\\\n",
       "\t HSC\\_Marks                 & 1.000000e+00 &   561.9718 &  3.574711e-18 & 1.0000000\\\\\n",
       "\\end{tabular}\n"
      ],
      "text/markdown": [
       "\n",
       "A tibble: 11 × 5\n",
       "\n",
       "| term &lt;chr&gt; | estimate &lt;dbl&gt; | std.error &lt;dbl&gt; | statistic &lt;dbl&gt; | p.value &lt;dbl&gt; |\n",
       "|---|---|---|---|---|\n",
       "| (Intercept)               | 2.900701e-12 | 64264.8279 | -4.133843e-04 | 0.9996702 |\n",
       "| CGPA                      | 1.000000e+00 |  6819.3103 |  5.197885e-19 | 1.0000000 |\n",
       "| Internships               | 1.000000e+00 |  5856.6441 |  3.625411e-20 | 1.0000000 |\n",
       "| Projects                  | 1.000000e+00 |  5492.9320 | -1.701743e-18 | 1.0000000 |\n",
       "| Workshops.Certifications  | 1.000000e+00 |  4586.6215 |  9.012058e-19 | 1.0000000 |\n",
       "| AptitudeTestScore         | 1.000000e+00 |   610.1559 | -3.644028e-18 | 1.0000000 |\n",
       "| SoftSkillsRating          | 1.000000e+00 | 10837.7657 |  2.006642e-18 | 1.0000000 |\n",
       "| ExtracurricularActivities | 1.000000e+00 |  9623.8664 | -1.971802e-18 | 1.0000000 |\n",
       "| PlacementTraining         | 1.000000e+00 |  8760.4169 | -1.787773e-18 | 1.0000000 |\n",
       "| SSC_Marks                 | 1.000000e+00 |   449.5356 | -3.917563e-19 | 1.0000000 |\n",
       "| HSC_Marks                 | 1.000000e+00 |   561.9718 |  3.574711e-18 | 1.0000000 |\n",
       "\n"
      ],
      "text/plain": [
       "   term                      estimate     std.error  statistic     p.value  \n",
       "1  (Intercept)               2.900701e-12 64264.8279 -4.133843e-04 0.9996702\n",
       "2  CGPA                      1.000000e+00  6819.3103  5.197885e-19 1.0000000\n",
       "3  Internships               1.000000e+00  5856.6441  3.625411e-20 1.0000000\n",
       "4  Projects                  1.000000e+00  5492.9320 -1.701743e-18 1.0000000\n",
       "5  Workshops.Certifications  1.000000e+00  4586.6215  9.012058e-19 1.0000000\n",
       "6  AptitudeTestScore         1.000000e+00   610.1559 -3.644028e-18 1.0000000\n",
       "7  SoftSkillsRating          1.000000e+00 10837.7657  2.006642e-18 1.0000000\n",
       "8  ExtracurricularActivities 1.000000e+00  9623.8664 -1.971802e-18 1.0000000\n",
       "9  PlacementTraining         1.000000e+00  8760.4169 -1.787773e-18 1.0000000\n",
       "10 SSC_Marks                 1.000000e+00   449.5356 -3.917563e-19 1.0000000\n",
       "11 HSC_Marks                 1.000000e+00   561.9718  3.574711e-18 1.0000000"
      ]
     },
     "metadata": {},
     "output_type": "display_data"
    }
   ],
   "source": [
    "placement_model <- tidy(glm(PlacementStatus~., data = placementDataB, family = binomial), exponentiate = TRUE) \n",
    "#take the exponential of the coefficients, so we can talk in terms of odds instead of logits.\n",
    "\n",
    "\n",
    "placement_model"
   ]
  },
  {
   "cell_type": "markdown",
   "id": "cd46731b-db2e-42b4-91f0-3ade9d757fe5",
   "metadata": {},
   "source": [
    "The logistic regression indicates that there are several predictors that significantly influence whether the student is placed or not placed. Notably, each increase in CGPA increases a student's odds of placement by a factor of 1.47, participating in Placement Training increases placement odds by a factor of 2.52 and involvement in extracurricular activities increases the odds by a factor of 2.11. Conversely, contrary to what the exploratory graph suggested, the number of internships appears to have no meaningful impact on placement likelihood, with an odds ratio of roughly 1.0. One potential problem is that this analysis did not account for possible multicollinearity between predictors, which could be addressed by using LASSO for variable selection.  "
   ]
  },
  {
   "cell_type": "code",
   "execution_count": 10,
   "id": "85a4fafb-a17a-4aeb-bf70-dfb6e225d78b",
   "metadata": {},
   "outputs": [
    {
     "data": {
      "text/html": [
       "<table class=\"dataframe\">\n",
       "<caption>A data.frame: 6 × 11</caption>\n",
       "<thead>\n",
       "\t<tr><th></th><th scope=col>CGPA</th><th scope=col>Internships</th><th scope=col>Projects</th><th scope=col>Workshops.Certifications</th><th scope=col>AptitudeTestScore</th><th scope=col>SoftSkillsRating</th><th scope=col>ExtracurricularActivities</th><th scope=col>PlacementTraining</th><th scope=col>SSC_Marks</th><th scope=col>HSC_Marks</th><th scope=col>PlacementStatus</th></tr>\n",
       "\t<tr><th></th><th scope=col>&lt;dbl&gt;</th><th scope=col>&lt;int&gt;</th><th scope=col>&lt;int&gt;</th><th scope=col>&lt;int&gt;</th><th scope=col>&lt;int&gt;</th><th scope=col>&lt;dbl&gt;</th><th scope=col>&lt;dbl&gt;</th><th scope=col>&lt;dbl&gt;</th><th scope=col>&lt;int&gt;</th><th scope=col>&lt;int&gt;</th><th scope=col>&lt;dbl&gt;</th></tr>\n",
       "</thead>\n",
       "<tbody>\n",
       "\t<tr><th scope=row>1</th><td>7.5</td><td>1</td><td>1</td><td>1</td><td>65</td><td>4.4</td><td>0</td><td>0</td><td>61</td><td>79</td><td>0</td></tr>\n",
       "\t<tr><th scope=row>2</th><td>7.3</td><td>1</td><td>2</td><td>2</td><td>82</td><td>4.8</td><td>1</td><td>0</td><td>79</td><td>80</td><td>0</td></tr>\n",
       "\t<tr><th scope=row>3</th><td>7.0</td><td>0</td><td>2</td><td>2</td><td>71</td><td>4.2</td><td>1</td><td>0</td><td>55</td><td>66</td><td>0</td></tr>\n",
       "\t<tr><th scope=row>4</th><td>7.7</td><td>2</td><td>1</td><td>0</td><td>85</td><td>3.5</td><td>1</td><td>1</td><td>59</td><td>72</td><td>0</td></tr>\n",
       "\t<tr><th scope=row>5</th><td>7.7</td><td>1</td><td>1</td><td>1</td><td>74</td><td>4.6</td><td>0</td><td>1</td><td>63</td><td>73</td><td>0</td></tr>\n",
       "\t<tr><th scope=row>6</th><td>7.4</td><td>0</td><td>2</td><td>1</td><td>78</td><td>4.4</td><td>0</td><td>0</td><td>63</td><td>66</td><td>0</td></tr>\n",
       "</tbody>\n",
       "</table>\n"
      ],
      "text/latex": [
       "A data.frame: 6 × 11\n",
       "\\begin{tabular}{r|lllllllllll}\n",
       "  & CGPA & Internships & Projects & Workshops.Certifications & AptitudeTestScore & SoftSkillsRating & ExtracurricularActivities & PlacementTraining & SSC\\_Marks & HSC\\_Marks & PlacementStatus\\\\\n",
       "  & <dbl> & <int> & <int> & <int> & <int> & <dbl> & <dbl> & <dbl> & <int> & <int> & <dbl>\\\\\n",
       "\\hline\n",
       "\t1 & 7.5 & 1 & 1 & 1 & 65 & 4.4 & 0 & 0 & 61 & 79 & 0\\\\\n",
       "\t2 & 7.3 & 1 & 2 & 2 & 82 & 4.8 & 1 & 0 & 79 & 80 & 0\\\\\n",
       "\t3 & 7.0 & 0 & 2 & 2 & 71 & 4.2 & 1 & 0 & 55 & 66 & 0\\\\\n",
       "\t4 & 7.7 & 2 & 1 & 0 & 85 & 3.5 & 1 & 1 & 59 & 72 & 0\\\\\n",
       "\t5 & 7.7 & 1 & 1 & 1 & 74 & 4.6 & 0 & 1 & 63 & 73 & 0\\\\\n",
       "\t6 & 7.4 & 0 & 2 & 1 & 78 & 4.4 & 0 & 0 & 63 & 66 & 0\\\\\n",
       "\\end{tabular}\n"
      ],
      "text/markdown": [
       "\n",
       "A data.frame: 6 × 11\n",
       "\n",
       "| <!--/--> | CGPA &lt;dbl&gt; | Internships &lt;int&gt; | Projects &lt;int&gt; | Workshops.Certifications &lt;int&gt; | AptitudeTestScore &lt;int&gt; | SoftSkillsRating &lt;dbl&gt; | ExtracurricularActivities &lt;dbl&gt; | PlacementTraining &lt;dbl&gt; | SSC_Marks &lt;int&gt; | HSC_Marks &lt;int&gt; | PlacementStatus &lt;dbl&gt; |\n",
       "|---|---|---|---|---|---|---|---|---|---|---|---|\n",
       "| 1 | 7.5 | 1 | 1 | 1 | 65 | 4.4 | 0 | 0 | 61 | 79 | 0 |\n",
       "| 2 | 7.3 | 1 | 2 | 2 | 82 | 4.8 | 1 | 0 | 79 | 80 | 0 |\n",
       "| 3 | 7.0 | 0 | 2 | 2 | 71 | 4.2 | 1 | 0 | 55 | 66 | 0 |\n",
       "| 4 | 7.7 | 2 | 1 | 0 | 85 | 3.5 | 1 | 1 | 59 | 72 | 0 |\n",
       "| 5 | 7.7 | 1 | 1 | 1 | 74 | 4.6 | 0 | 1 | 63 | 73 | 0 |\n",
       "| 6 | 7.4 | 0 | 2 | 1 | 78 | 4.4 | 0 | 0 | 63 | 66 | 0 |\n",
       "\n"
      ],
      "text/plain": [
       "  CGPA Internships Projects Workshops.Certifications AptitudeTestScore\n",
       "1 7.5  1           1        1                        65               \n",
       "2 7.3  1           2        2                        82               \n",
       "3 7.0  0           2        2                        71               \n",
       "4 7.7  2           1        0                        85               \n",
       "5 7.7  1           1        1                        74               \n",
       "6 7.4  0           2        1                        78               \n",
       "  SoftSkillsRating ExtracurricularActivities PlacementTraining SSC_Marks\n",
       "1 4.4              0                         0                 61       \n",
       "2 4.8              1                         0                 79       \n",
       "3 4.2              1                         0                 55       \n",
       "4 3.5              1                         1                 59       \n",
       "5 4.6              0                         1                 63       \n",
       "6 4.4              0                         0                 63       \n",
       "  HSC_Marks PlacementStatus\n",
       "1 79        0              \n",
       "2 80        0              \n",
       "3 66        0              \n",
       "4 72        0              \n",
       "5 73        0              \n",
       "6 66        0              "
      ]
     },
     "metadata": {},
     "output_type": "display_data"
    }
   ],
   "source": [
    "set.seed(123) # we set a seed to make our code reproductible \n",
    "placementData_split <- initial_split(placementData, prop = 0.7, strata = PlacementStatus)\n",
    "placementData_training <- training(placementData_split)\n",
    "placementData_testing <- testing(placementData_split)\n",
    "head(placementData_training)"
   ]
  },
  {
   "cell_type": "code",
   "execution_count": 11,
   "id": "b31fe4b9-e46e-40ea-9f09-1c05fcdf8f2c",
   "metadata": {},
   "outputs": [
    {
     "name": "stdout",
     "output_type": "stream",
     "text": [
      "Start:  AIC=9523.06\n",
      "PlacementStatus ~ 1\n",
      "\n",
      "                            Df Deviance    AIC\n",
      "+ AptitudeTestScore          1   7342.8 7346.8\n",
      "+ HSC_Marks                  1   7625.4 7629.4\n",
      "+ ExtracurricularActivities  1   7767.4 7771.4\n",
      "+ Projects                   1   7823.8 7827.8\n",
      "+ SSC_Marks                  1   7827.0 7831.0\n",
      "+ SoftSkillsRating           1   8087.7 8091.7\n",
      "+ CGPA                       1   8100.7 8104.7\n",
      "+ Workshops.Certifications   1   8632.3 8636.3\n",
      "+ PlacementTraining          1   8771.9 8775.9\n",
      "+ Internships                1   9054.9 9058.9\n",
      "<none>                           9521.1 9523.1\n",
      "\n",
      "Step:  AIC=7346.77\n",
      "PlacementStatus ~ AptitudeTestScore\n",
      "\n",
      "                            Df Deviance    AIC\n",
      "+ ExtracurricularActivities  1   6710.2 6716.2\n",
      "+ SSC_Marks                  1   6840.9 6846.9\n",
      "+ HSC_Marks                  1   6857.0 6863.0\n",
      "+ Projects                   1   6921.4 6927.4\n",
      "+ CGPA                       1   6939.3 6945.3\n",
      "+ SoftSkillsRating           1   7025.3 7031.3\n",
      "+ PlacementTraining          1   7065.2 7071.2\n",
      "+ Workshops.Certifications   1   7137.5 7143.5\n",
      "+ Internships                1   7277.9 7283.9\n",
      "<none>                           7342.8 7346.8\n",
      "\n",
      "Step:  AIC=6716.15\n",
      "PlacementStatus ~ AptitudeTestScore + ExtracurricularActivities\n",
      "\n",
      "                           Df Deviance    AIC\n",
      "+ SSC_Marks                 1   6495.9 6503.9\n",
      "+ HSC_Marks                 1   6519.4 6527.4\n",
      "+ Projects                  1   6526.2 6534.2\n",
      "+ CGPA                      1   6535.4 6543.4\n",
      "+ PlacementTraining         1   6559.5 6567.5\n",
      "+ SoftSkillsRating          1   6571.0 6579.0\n",
      "+ Workshops.Certifications  1   6632.6 6640.6\n",
      "+ Internships               1   6690.5 6698.5\n",
      "<none>                          6710.2 6716.2\n",
      "\n",
      "Step:  AIC=6503.87\n",
      "PlacementStatus ~ AptitudeTestScore + ExtracurricularActivities + \n",
      "    SSC_Marks\n",
      "\n",
      "                           Df Deviance    AIC\n",
      "+ PlacementTraining         1   6349.5 6359.5\n",
      "+ CGPA                      1   6365.5 6375.5\n",
      "+ HSC_Marks                 1   6381.3 6391.3\n",
      "+ Projects                  1   6383.7 6393.7\n",
      "+ SoftSkillsRating          1   6399.1 6409.1\n",
      "+ Workshops.Certifications  1   6450.8 6460.8\n",
      "+ Internships               1   6486.0 6496.0\n",
      "<none>                          6495.9 6503.9\n",
      "\n",
      "Step:  AIC=6359.52\n",
      "PlacementStatus ~ AptitudeTestScore + ExtracurricularActivities + \n",
      "    SSC_Marks + PlacementTraining\n",
      "\n",
      "                           Df Deviance    AIC\n",
      "+ CGPA                      1   6230.4 6242.4\n",
      "+ Projects                  1   6252.1 6264.1\n",
      "+ SoftSkillsRating          1   6255.3 6267.3\n",
      "+ HSC_Marks                 1   6259.9 6271.9\n",
      "+ Workshops.Certifications  1   6304.3 6316.3\n",
      "+ Internships               1   6340.5 6352.5\n",
      "<none>                          6349.5 6359.5\n",
      "\n",
      "Step:  AIC=6242.43\n",
      "PlacementStatus ~ AptitudeTestScore + ExtracurricularActivities + \n",
      "    SSC_Marks + PlacementTraining + CGPA\n",
      "\n",
      "                           Df Deviance    AIC\n",
      "+ SoftSkillsRating          1   6157.7 6171.7\n",
      "+ Projects                  1   6159.9 6173.9\n",
      "+ HSC_Marks                 1   6170.9 6184.9\n",
      "+ Workshops.Certifications  1   6203.7 6217.7\n",
      "+ Internships               1   6227.6 6241.6\n",
      "<none>                          6230.4 6242.4\n",
      "\n",
      "Step:  AIC=6171.74\n",
      "PlacementStatus ~ AptitudeTestScore + ExtracurricularActivities + \n",
      "    SSC_Marks + PlacementTraining + CGPA + SoftSkillsRating\n",
      "\n",
      "                           Df Deviance    AIC\n",
      "+ Projects                  1   6104.2 6120.2\n",
      "+ HSC_Marks                 1   6114.3 6130.3\n",
      "+ Workshops.Certifications  1   6139.6 6155.6\n",
      "<none>                          6157.7 6171.7\n",
      "+ Internships               1   6156.2 6172.2\n",
      "\n",
      "Step:  AIC=6120.18\n",
      "PlacementStatus ~ AptitudeTestScore + ExtracurricularActivities + \n",
      "    SSC_Marks + PlacementTraining + CGPA + SoftSkillsRating + \n",
      "    Projects\n",
      "\n",
      "                           Df Deviance    AIC\n",
      "+ HSC_Marks                 1   6074.0 6092.0\n",
      "+ Workshops.Certifications  1   6091.7 6109.7\n",
      "<none>                          6104.2 6120.2\n",
      "+ Internships               1   6103.7 6121.7\n",
      "\n",
      "Step:  AIC=6091.95\n",
      "PlacementStatus ~ AptitudeTestScore + ExtracurricularActivities + \n",
      "    SSC_Marks + PlacementTraining + CGPA + SoftSkillsRating + \n",
      "    Projects + HSC_Marks\n",
      "\n",
      "                           Df Deviance    AIC\n",
      "+ Workshops.Certifications  1   6065.6 6085.6\n",
      "<none>                          6074.0 6092.0\n",
      "+ Internships               1   6073.9 6093.9\n",
      "\n",
      "Step:  AIC=6085.63\n",
      "PlacementStatus ~ AptitudeTestScore + ExtracurricularActivities + \n",
      "    SSC_Marks + PlacementTraining + CGPA + SoftSkillsRating + \n",
      "    Projects + HSC_Marks + Workshops.Certifications\n",
      "\n",
      "              Df Deviance    AIC\n",
      "<none>             6065.6 6085.6\n",
      "+ Internships  1   6065.6 6087.6\n"
     ]
    },
    {
     "data": {
      "text/plain": [
       "\n",
       "Call:\n",
       "glm(formula = PlacementStatus ~ AptitudeTestScore + ExtracurricularActivities + \n",
       "    SSC_Marks + PlacementTraining + CGPA + SoftSkillsRating + \n",
       "    Projects + HSC_Marks + Workshops.Certifications, family = \"binomial\", \n",
       "    data = placementData_training)\n",
       "\n",
       "Coefficients:\n",
       "                            Estimate Std. Error z value Pr(>|z|)    \n",
       "(Intercept)               -18.252114   0.632117 -28.875  < 2e-16 ***\n",
       "AptitudeTestScore           0.069434   0.005570  12.465  < 2e-16 ***\n",
       "ExtracurricularActivities   0.730853   0.080437   9.086  < 2e-16 ***\n",
       "SSC_Marks                   0.033101   0.003748   8.832  < 2e-16 ***\n",
       "PlacementTraining           0.887372   0.085136  10.423  < 2e-16 ***\n",
       "CGPA                        0.458496   0.060208   7.615 2.63e-14 ***\n",
       "SoftSkillsRating            0.651028   0.100664   6.467 9.97e-11 ***\n",
       "Projects                    0.272739   0.044543   6.123 9.18e-10 ***\n",
       "HSC_Marks                   0.023426   0.004575   5.121 3.04e-07 ***\n",
       "Workshops.Certifications    0.110062   0.038029   2.894   0.0038 ** \n",
       "---\n",
       "Signif. codes:  0 ‘***’ 0.001 ‘**’ 0.01 ‘*’ 0.05 ‘.’ 0.1 ‘ ’ 1\n",
       "\n",
       "(Dispersion parameter for binomial family taken to be 1)\n",
       "\n",
       "    Null deviance: 9521.1  on 6998  degrees of freedom\n",
       "Residual deviance: 6065.6  on 6989  degrees of freedom\n",
       "AIC: 6085.6\n",
       "\n",
       "Number of Fisher Scoring iterations: 5\n"
      ]
     },
     "metadata": {},
     "output_type": "display_data"
    }
   ],
   "source": [
    "null_model <- glm(PlacementStatus ~ 1, data = placementData_training, family = 'binomial')\n",
    "full_model <- glm(PlacementStatus ~ ., data = placementData_training, family = 'binomial')\n",
    "step_model <- MASS::stepAIC(null_model, scope = list(lower = null_model, upper = full_model), direction = \"forward\")\n",
    "summary(step_model)"
   ]
  },
  {
   "cell_type": "markdown",
   "id": "9e944ecf-dbeb-4c5b-9cad-86e8966cdbac",
   "metadata": {},
   "source": [
    "The stepwise AIC selection process helped find the most important factors that influence whether a student gets placed. The final model includes Aptitude Test Score, Extracurricular Activities, SSC Marks, Placement Training, CGPA, Soft Skills Rating, Projects, HSC Marks, and Workshops/Certifications. All of these factors significantly impact placement. Students with higher Aptitude Test Scores, CGPA, and Soft Skills Ratings are more likely to get placed. Participation in extracurricular activities, placement training, and workshops also increases the chances of placement. While SSC and HSC marks play a role, they have a smaller effect compared to other factors.\n",
    "\n",
    "The biggest influences on placement are Placement Training, Extracurricular Activities, and Aptitude Test Score. This suggests that beyond good grades, practical experience and well-rounded skills are key to getting placed. The model is much better at predicting placement outcomes compared to using no predictors, as shown by the significant drop in AIC (from 9523.06 to 6085.6) and residual deviance (from 9521.1 to 6065.6)."
   ]
  },
  {
   "cell_type": "code",
   "execution_count": 15,
   "id": "1a2ce3b5-bd4e-40e8-94ea-d47b428216b6",
   "metadata": {},
   "outputs": [
    {
     "data": {
      "text/plain": [
       "\n",
       "Call:\n",
       "glm(formula = PlacementStatus ~ AptitudeTestScore + ExtracurricularActivities + \n",
       "    SSC_Marks + PlacementTraining + CGPA + SoftSkillsRating + \n",
       "    Projects + HSC_Marks + Workshops.Certifications, family = \"binomial\", \n",
       "    data = placementData_training)\n",
       "\n",
       "Coefficients:\n",
       "                            Estimate Std. Error z value Pr(>|z|)    \n",
       "(Intercept)               -18.252114   0.632117 -28.875  < 2e-16 ***\n",
       "AptitudeTestScore           0.069434   0.005570  12.465  < 2e-16 ***\n",
       "ExtracurricularActivities   0.730853   0.080437   9.086  < 2e-16 ***\n",
       "SSC_Marks                   0.033101   0.003748   8.832  < 2e-16 ***\n",
       "PlacementTraining           0.887372   0.085136  10.423  < 2e-16 ***\n",
       "CGPA                        0.458496   0.060208   7.615 2.63e-14 ***\n",
       "SoftSkillsRating            0.651028   0.100664   6.467 9.97e-11 ***\n",
       "Projects                    0.272739   0.044543   6.123 9.18e-10 ***\n",
       "HSC_Marks                   0.023426   0.004575   5.121 3.04e-07 ***\n",
       "Workshops.Certifications    0.110062   0.038029   2.894   0.0038 ** \n",
       "---\n",
       "Signif. codes:  0 ‘***’ 0.001 ‘**’ 0.01 ‘*’ 0.05 ‘.’ 0.1 ‘ ’ 1\n",
       "\n",
       "(Dispersion parameter for binomial family taken to be 1)\n",
       "\n",
       "    Null deviance: 9521.1  on 6998  degrees of freedom\n",
       "Residual deviance: 6065.6  on 6989  degrees of freedom\n",
       "AIC: 6085.6\n",
       "\n",
       "Number of Fisher Scoring iterations: 5\n"
      ]
     },
     "metadata": {},
     "output_type": "display_data"
    },
    {
     "data": {
      "text/html": [
       "<table class=\"dataframe\">\n",
       "<caption>A tibble: 10 × 5</caption>\n",
       "<thead>\n",
       "\t<tr><th scope=col>term</th><th scope=col>estimate</th><th scope=col>std.error</th><th scope=col>statistic</th><th scope=col>p.value</th></tr>\n",
       "\t<tr><th scope=col>&lt;chr&gt;</th><th scope=col>&lt;dbl&gt;</th><th scope=col>&lt;dbl&gt;</th><th scope=col>&lt;dbl&gt;</th><th scope=col>&lt;dbl&gt;</th></tr>\n",
       "</thead>\n",
       "<tbody>\n",
       "\t<tr><td>(Intercept)              </td><td>-18.25211428</td><td>0.632116855</td><td>-28.874589</td><td>2.489751e-183</td></tr>\n",
       "\t<tr><td>AptitudeTestScore        </td><td>  0.06943405</td><td>0.005570198</td><td> 12.465275</td><td> 1.154728e-35</td></tr>\n",
       "\t<tr><td>ExtracurricularActivities</td><td>  0.73085310</td><td>0.080437500</td><td>  9.085975</td><td> 1.027736e-19</td></tr>\n",
       "\t<tr><td>SSC_Marks                </td><td>  0.03310096</td><td>0.003747912</td><td>  8.831841</td><td> 1.029664e-18</td></tr>\n",
       "\t<tr><td>PlacementTraining        </td><td>  0.88737222</td><td>0.085136252</td><td> 10.422966</td><td> 1.947831e-25</td></tr>\n",
       "\t<tr><td>CGPA                     </td><td>  0.45849648</td><td>0.060207701</td><td>  7.615246</td><td> 2.631887e-14</td></tr>\n",
       "\t<tr><td>SoftSkillsRating         </td><td>  0.65102816</td><td>0.100663564</td><td>  6.467367</td><td> 9.972557e-11</td></tr>\n",
       "\t<tr><td>Projects                 </td><td>  0.27273907</td><td>0.044543082</td><td>  6.123040</td><td> 9.180669e-10</td></tr>\n",
       "\t<tr><td>HSC_Marks                </td><td>  0.02342634</td><td>0.004574667</td><td>  5.120883</td><td> 3.041078e-07</td></tr>\n",
       "\t<tr><td>Workshops.Certifications </td><td>  0.11006233</td><td>0.038028717</td><td>  2.894190</td><td> 3.801380e-03</td></tr>\n",
       "</tbody>\n",
       "</table>\n"
      ],
      "text/latex": [
       "A tibble: 10 × 5\n",
       "\\begin{tabular}{lllll}\n",
       " term & estimate & std.error & statistic & p.value\\\\\n",
       " <chr> & <dbl> & <dbl> & <dbl> & <dbl>\\\\\n",
       "\\hline\n",
       "\t (Intercept)               & -18.25211428 & 0.632116855 & -28.874589 & 2.489751e-183\\\\\n",
       "\t AptitudeTestScore         &   0.06943405 & 0.005570198 &  12.465275 &  1.154728e-35\\\\\n",
       "\t ExtracurricularActivities &   0.73085310 & 0.080437500 &   9.085975 &  1.027736e-19\\\\\n",
       "\t SSC\\_Marks                 &   0.03310096 & 0.003747912 &   8.831841 &  1.029664e-18\\\\\n",
       "\t PlacementTraining         &   0.88737222 & 0.085136252 &  10.422966 &  1.947831e-25\\\\\n",
       "\t CGPA                      &   0.45849648 & 0.060207701 &   7.615246 &  2.631887e-14\\\\\n",
       "\t SoftSkillsRating          &   0.65102816 & 0.100663564 &   6.467367 &  9.972557e-11\\\\\n",
       "\t Projects                  &   0.27273907 & 0.044543082 &   6.123040 &  9.180669e-10\\\\\n",
       "\t HSC\\_Marks                 &   0.02342634 & 0.004574667 &   5.120883 &  3.041078e-07\\\\\n",
       "\t Workshops.Certifications  &   0.11006233 & 0.038028717 &   2.894190 &  3.801380e-03\\\\\n",
       "\\end{tabular}\n"
      ],
      "text/markdown": [
       "\n",
       "A tibble: 10 × 5\n",
       "\n",
       "| term &lt;chr&gt; | estimate &lt;dbl&gt; | std.error &lt;dbl&gt; | statistic &lt;dbl&gt; | p.value &lt;dbl&gt; |\n",
       "|---|---|---|---|---|\n",
       "| (Intercept)               | -18.25211428 | 0.632116855 | -28.874589 | 2.489751e-183 |\n",
       "| AptitudeTestScore         |   0.06943405 | 0.005570198 |  12.465275 |  1.154728e-35 |\n",
       "| ExtracurricularActivities |   0.73085310 | 0.080437500 |   9.085975 |  1.027736e-19 |\n",
       "| SSC_Marks                 |   0.03310096 | 0.003747912 |   8.831841 |  1.029664e-18 |\n",
       "| PlacementTraining         |   0.88737222 | 0.085136252 |  10.422966 |  1.947831e-25 |\n",
       "| CGPA                      |   0.45849648 | 0.060207701 |   7.615246 |  2.631887e-14 |\n",
       "| SoftSkillsRating          |   0.65102816 | 0.100663564 |   6.467367 |  9.972557e-11 |\n",
       "| Projects                  |   0.27273907 | 0.044543082 |   6.123040 |  9.180669e-10 |\n",
       "| HSC_Marks                 |   0.02342634 | 0.004574667 |   5.120883 |  3.041078e-07 |\n",
       "| Workshops.Certifications  |   0.11006233 | 0.038028717 |   2.894190 |  3.801380e-03 |\n",
       "\n"
      ],
      "text/plain": [
       "   term                      estimate     std.error   statistic  p.value      \n",
       "1  (Intercept)               -18.25211428 0.632116855 -28.874589 2.489751e-183\n",
       "2  AptitudeTestScore           0.06943405 0.005570198  12.465275  1.154728e-35\n",
       "3  ExtracurricularActivities   0.73085310 0.080437500   9.085975  1.027736e-19\n",
       "4  SSC_Marks                   0.03310096 0.003747912   8.831841  1.029664e-18\n",
       "5  PlacementTraining           0.88737222 0.085136252  10.422966  1.947831e-25\n",
       "6  CGPA                        0.45849648 0.060207701   7.615246  2.631887e-14\n",
       "7  SoftSkillsRating            0.65102816 0.100663564   6.467367  9.972557e-11\n",
       "8  Projects                    0.27273907 0.044543082   6.123040  9.180669e-10\n",
       "9  HSC_Marks                   0.02342634 0.004574667   5.120883  3.041078e-07\n",
       "10 Workshops.Certifications    0.11006233 0.038028717   2.894190  3.801380e-03"
      ]
     },
     "metadata": {},
     "output_type": "display_data"
    }
   ],
   "source": [
    "final_model <- glm(PlacementStatus ~ AptitudeTestScore + ExtracurricularActivities + SSC_Marks + PlacementTraining + CGPA + SoftSkillsRating + Projects + HSC_Marks + Workshops.Certifications, \n",
    "                   data = placementData_training, family = 'binomial')\n",
    "summary(final_model)\n",
    "tidy(final_model)"
   ]
  },
  {
   "cell_type": "code",
   "execution_count": 16,
   "id": "b5821e07-e0df-448e-ad73-a25d1a21231f",
   "metadata": {},
   "outputs": [
    {
     "data": {
      "text/plain": [
       "         Actual\n",
       "Predicted    0    1\n",
       "        0 1426  283\n",
       "        1  315  977"
      ]
     },
     "metadata": {},
     "output_type": "display_data"
    }
   ],
   "source": [
    "# Confusion Matrix\n",
    "predictions <- predict(final_model, placementData_testing, type = \"response\")\n",
    "predicted_classes <- ifelse(predictions > 0.5, 1, 0)\n",
    "table(Predicted = predicted_classes, Actual = placementData_testing$PlacementStatus)"
   ]
  },
  {
   "cell_type": "code",
   "execution_count": 17,
   "id": "86317506-0532-40e0-b895-c825ba5fb06f",
   "metadata": {},
   "outputs": [
    {
     "data": {
      "text/html": [
       "<style>\n",
       ".dl-inline {width: auto; margin:0; padding: 0}\n",
       ".dl-inline>dt, .dl-inline>dd {float: none; width: auto; display: inline-block}\n",
       ".dl-inline>dt::after {content: \":\\0020\"; padding-right: .5ex}\n",
       ".dl-inline>dt:not(:first-of-type) {padding-left: .5ex}\n",
       "</style><dl class=dl-inline><dt>AptitudeTestScore</dt><dd>1.36811413440677</dd><dt>ExtracurricularActivities</dt><dd>1.27827442105567</dd><dt>SSC_Marks</dt><dd>1.28356522070466</dd><dt>PlacementTraining</dt><dd>1.02285806618703</dd><dt>CGPA</dt><dd>1.20677131664544</dd><dt>SoftSkillsRating</dt><dd>1.24806193734627</dd><dt>Projects</dt><dd>1.32839653536623</dd><dt>HSC_Marks</dt><dd>1.46662209594906</dd><dt>Workshops.Certifications</dt><dd>1.18422588728218</dd></dl>\n"
      ],
      "text/latex": [
       "\\begin{description*}\n",
       "\\item[AptitudeTestScore] 1.36811413440677\n",
       "\\item[ExtracurricularActivities] 1.27827442105567\n",
       "\\item[SSC\\textbackslash{}\\_Marks] 1.28356522070466\n",
       "\\item[PlacementTraining] 1.02285806618703\n",
       "\\item[CGPA] 1.20677131664544\n",
       "\\item[SoftSkillsRating] 1.24806193734627\n",
       "\\item[Projects] 1.32839653536623\n",
       "\\item[HSC\\textbackslash{}\\_Marks] 1.46662209594906\n",
       "\\item[Workshops.Certifications] 1.18422588728218\n",
       "\\end{description*}\n"
      ],
      "text/markdown": [
       "AptitudeTestScore\n",
       ":   1.36811413440677ExtracurricularActivities\n",
       ":   1.27827442105567SSC_Marks\n",
       ":   1.28356522070466PlacementTraining\n",
       ":   1.02285806618703CGPA\n",
       ":   1.20677131664544SoftSkillsRating\n",
       ":   1.24806193734627Projects\n",
       ":   1.32839653536623HSC_Marks\n",
       ":   1.46662209594906Workshops.Certifications\n",
       ":   1.18422588728218\n",
       "\n"
      ],
      "text/plain": [
       "        AptitudeTestScore ExtracurricularActivities                 SSC_Marks \n",
       "                 1.368114                  1.278274                  1.283565 \n",
       "        PlacementTraining                      CGPA          SoftSkillsRating \n",
       "                 1.022858                  1.206771                  1.248062 \n",
       "                 Projects                 HSC_Marks  Workshops.Certifications \n",
       "                 1.328397                  1.466622                  1.184226 "
      ]
     },
     "metadata": {},
     "output_type": "display_data"
    },
    {
     "data": {
      "text/html": [
       "<table class=\"dataframe\">\n",
       "<caption>A anova: 10 × 5</caption>\n",
       "<thead>\n",
       "\t<tr><th></th><th scope=col>Df</th><th scope=col>Deviance</th><th scope=col>Resid. Df</th><th scope=col>Resid. Dev</th><th scope=col>Pr(&gt;Chi)</th></tr>\n",
       "\t<tr><th></th><th scope=col>&lt;int&gt;</th><th scope=col>&lt;dbl&gt;</th><th scope=col>&lt;int&gt;</th><th scope=col>&lt;dbl&gt;</th><th scope=col>&lt;dbl&gt;</th></tr>\n",
       "</thead>\n",
       "<tbody>\n",
       "\t<tr><th scope=row>NULL</th><td>NA</td><td>         NA</td><td>6998</td><td>9521.058</td><td>           NA</td></tr>\n",
       "\t<tr><th scope=row>AptitudeTestScore</th><td> 1</td><td>2178.289014</td><td>6997</td><td>7342.769</td><td> 0.000000e+00</td></tr>\n",
       "\t<tr><th scope=row>ExtracurricularActivities</th><td> 1</td><td> 632.615871</td><td>6996</td><td>6710.153</td><td>1.348638e-139</td></tr>\n",
       "\t<tr><th scope=row>SSC_Marks</th><td> 1</td><td> 214.279631</td><td>6995</td><td>6495.873</td><td> 1.600351e-48</td></tr>\n",
       "\t<tr><th scope=row>PlacementTraining</th><td> 1</td><td> 146.358128</td><td>6994</td><td>6349.515</td><td> 1.084051e-33</td></tr>\n",
       "\t<tr><th scope=row>CGPA</th><td> 1</td><td> 119.083066</td><td>6993</td><td>6230.432</td><td> 1.004344e-27</td></tr>\n",
       "\t<tr><th scope=row>SoftSkillsRating</th><td> 1</td><td>  72.696724</td><td>6992</td><td>6157.736</td><td> 1.511848e-17</td></tr>\n",
       "\t<tr><th scope=row>Projects</th><td> 1</td><td>  53.551020</td><td>6991</td><td>6104.185</td><td> 2.519636e-13</td></tr>\n",
       "\t<tr><th scope=row>HSC_Marks</th><td> 1</td><td>  30.231939</td><td>6990</td><td>6073.953</td><td> 3.833444e-08</td></tr>\n",
       "\t<tr><th scope=row>Workshops.Certifications</th><td> 1</td><td>   8.327607</td><td>6989</td><td>6065.625</td><td> 3.904707e-03</td></tr>\n",
       "</tbody>\n",
       "</table>\n"
      ],
      "text/latex": [
       "A anova: 10 × 5\n",
       "\\begin{tabular}{r|lllll}\n",
       "  & Df & Deviance & Resid. Df & Resid. Dev & Pr(>Chi)\\\\\n",
       "  & <int> & <dbl> & <int> & <dbl> & <dbl>\\\\\n",
       "\\hline\n",
       "\tNULL & NA &          NA & 6998 & 9521.058 &            NA\\\\\n",
       "\tAptitudeTestScore &  1 & 2178.289014 & 6997 & 7342.769 &  0.000000e+00\\\\\n",
       "\tExtracurricularActivities &  1 &  632.615871 & 6996 & 6710.153 & 1.348638e-139\\\\\n",
       "\tSSC\\_Marks &  1 &  214.279631 & 6995 & 6495.873 &  1.600351e-48\\\\\n",
       "\tPlacementTraining &  1 &  146.358128 & 6994 & 6349.515 &  1.084051e-33\\\\\n",
       "\tCGPA &  1 &  119.083066 & 6993 & 6230.432 &  1.004344e-27\\\\\n",
       "\tSoftSkillsRating &  1 &   72.696724 & 6992 & 6157.736 &  1.511848e-17\\\\\n",
       "\tProjects &  1 &   53.551020 & 6991 & 6104.185 &  2.519636e-13\\\\\n",
       "\tHSC\\_Marks &  1 &   30.231939 & 6990 & 6073.953 &  3.833444e-08\\\\\n",
       "\tWorkshops.Certifications &  1 &    8.327607 & 6989 & 6065.625 &  3.904707e-03\\\\\n",
       "\\end{tabular}\n"
      ],
      "text/markdown": [
       "\n",
       "A anova: 10 × 5\n",
       "\n",
       "| <!--/--> | Df &lt;int&gt; | Deviance &lt;dbl&gt; | Resid. Df &lt;int&gt; | Resid. Dev &lt;dbl&gt; | Pr(&gt;Chi) &lt;dbl&gt; |\n",
       "|---|---|---|---|---|---|\n",
       "| NULL | NA |          NA | 6998 | 9521.058 |            NA |\n",
       "| AptitudeTestScore |  1 | 2178.289014 | 6997 | 7342.769 |  0.000000e+00 |\n",
       "| ExtracurricularActivities |  1 |  632.615871 | 6996 | 6710.153 | 1.348638e-139 |\n",
       "| SSC_Marks |  1 |  214.279631 | 6995 | 6495.873 |  1.600351e-48 |\n",
       "| PlacementTraining |  1 |  146.358128 | 6994 | 6349.515 |  1.084051e-33 |\n",
       "| CGPA |  1 |  119.083066 | 6993 | 6230.432 |  1.004344e-27 |\n",
       "| SoftSkillsRating |  1 |   72.696724 | 6992 | 6157.736 |  1.511848e-17 |\n",
       "| Projects |  1 |   53.551020 | 6991 | 6104.185 |  2.519636e-13 |\n",
       "| HSC_Marks |  1 |   30.231939 | 6990 | 6073.953 |  3.833444e-08 |\n",
       "| Workshops.Certifications |  1 |    8.327607 | 6989 | 6065.625 |  3.904707e-03 |\n",
       "\n"
      ],
      "text/plain": [
       "                          Df Deviance    Resid. Df Resid. Dev Pr(>Chi)     \n",
       "NULL                      NA          NA 6998      9521.058              NA\n",
       "AptitudeTestScore          1 2178.289014 6997      7342.769    0.000000e+00\n",
       "ExtracurricularActivities  1  632.615871 6996      6710.153   1.348638e-139\n",
       "SSC_Marks                  1  214.279631 6995      6495.873    1.600351e-48\n",
       "PlacementTraining          1  146.358128 6994      6349.515    1.084051e-33\n",
       "CGPA                       1  119.083066 6993      6230.432    1.004344e-27\n",
       "SoftSkillsRating           1   72.696724 6992      6157.736    1.511848e-17\n",
       "Projects                   1   53.551020 6991      6104.185    2.519636e-13\n",
       "HSC_Marks                  1   30.231939 6990      6073.953    3.833444e-08\n",
       "Workshops.Certifications   1    8.327607 6989      6065.625    3.904707e-03"
      ]
     },
     "metadata": {},
     "output_type": "display_data"
    }
   ],
   "source": [
    "# VIF and ANOVA\n",
    "vif(final_model)\n",
    "anova(final_model, test = \"Chisq\")"
   ]
  },
  {
   "cell_type": "code",
   "execution_count": 20,
   "id": "d31762cd-846b-4078-83e4-d7f4315c9211",
   "metadata": {},
   "outputs": [
    {
     "data": {
      "text/plain": [
       "Confusion Matrix and Statistics\n",
       "\n",
       "          Reference\n",
       "Prediction    0    1\n",
       "         0 1426  283\n",
       "         1  315  977\n",
       "                                         \n",
       "               Accuracy : 0.8007         \n",
       "                 95% CI : (0.786, 0.8149)\n",
       "    No Information Rate : 0.5801         \n",
       "    P-Value [Acc > NIR] : <2e-16         \n",
       "                                         \n",
       "                  Kappa : 0.5924         \n",
       "                                         \n",
       " Mcnemar's Test P-Value : 0.2049         \n",
       "                                         \n",
       "            Sensitivity : 0.8191         \n",
       "            Specificity : 0.7754         \n",
       "         Pos Pred Value : 0.8344         \n",
       "         Neg Pred Value : 0.7562         \n",
       "             Prevalence : 0.5801         \n",
       "         Detection Rate : 0.4752         \n",
       "   Detection Prevalence : 0.5695         \n",
       "      Balanced Accuracy : 0.7972         \n",
       "                                         \n",
       "       'Positive' Class : 0              \n",
       "                                         "
      ]
     },
     "metadata": {},
     "output_type": "display_data"
    }
   ],
   "source": [
    "confusionMatrix(factor(predicted_classes), factor(placementData_testing$PlacementStatus))\n"
   ]
  },
  {
   "cell_type": "code",
   "execution_count": null,
   "id": "45558761-68a7-4eeb-8349-7ad9f9700df2",
   "metadata": {},
   "outputs": [],
   "source": []
  }
 ],
 "metadata": {
  "kernelspec": {
   "display_name": "R",
   "language": "R",
   "name": "ir"
  },
  "language_info": {
   "codemirror_mode": "r",
   "file_extension": ".r",
   "mimetype": "text/x-r-source",
   "name": "R",
   "pygments_lexer": "r",
   "version": "4.3.3"
  }
 },
 "nbformat": 4,
 "nbformat_minor": 5
}
